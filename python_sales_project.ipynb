{
  "cells": [
    {
      "cell_type": "markdown",
      "metadata": {
        "id": "y34m54lP7LJU"
      },
      "source": [
        "# Python Packages"
      ]
    },
    {
      "cell_type": "code",
      "execution_count": 1,
      "metadata": {},
      "outputs": [
        {
          "name": "stdout",
          "output_type": "stream",
          "text": [
            "Requirement already satisfied: pandas in .\\venv\\lib\\site-packages (2.2.3)\n",
            "Requirement already satisfied: numpy>=1.26.0 in .\\venv\\lib\\site-packages (from pandas) (2.2.1)\n",
            "Requirement already satisfied: python-dateutil>=2.8.2 in .\\venv\\lib\\site-packages (from pandas) (2.9.0.post0)\n",
            "Requirement already satisfied: pytz>=2020.1 in .\\venv\\lib\\site-packages (from pandas) (2024.2)\n",
            "Requirement already satisfied: tzdata>=2022.7 in .\\venv\\lib\\site-packages (from pandas) (2024.2)\n",
            "Requirement already satisfied: six>=1.5 in .\\venv\\lib\\site-packages (from python-dateutil>=2.8.2->pandas) (1.17.0)\n",
            "Note: you may need to restart the kernel to use updated packages.\n",
            "Requirement already satisfied: numpy in .\\venv\\lib\\site-packages (2.2.1)\n",
            "Note: you may need to restart the kernel to use updated packages.\n",
            "Requirement already satisfied: plotly in .\\venv\\lib\\site-packages (5.24.1)\n",
            "Requirement already satisfied: tenacity>=6.2.0 in .\\venv\\lib\\site-packages (from plotly) (9.0.0)\n",
            "Requirement already satisfied: packaging in .\\venv\\lib\\site-packages (from plotly) (24.2)\n",
            "Note: you may need to restart the kernel to use updated packages.\n",
            "Requirement already satisfied: openpyxl in .\\venv\\lib\\site-packages (3.1.5)Note: you may need to restart the kernel to use updated packages.\n",
            "\n",
            "Requirement already satisfied: et-xmlfile in .\\venv\\lib\\site-packages (from openpyxl) (2.0.0)\n",
            "Requirement already satisfied: nbformat in .\\venv\\lib\\site-packages (5.10.4)\n",
            "Requirement already satisfied: fastjsonschema>=2.15 in .\\venv\\lib\\site-packages (from nbformat) (2.21.1)\n",
            "Requirement already satisfied: jsonschema>=2.6 in .\\venv\\lib\\site-packages (from nbformat) (4.23.0)\n",
            "Requirement already satisfied: jupyter-core!=5.0.*,>=4.12 in .\\venv\\lib\\site-packages (from nbformat) (5.7.2)\n",
            "Requirement already satisfied: traitlets>=5.1 in .\\venv\\lib\\site-packages (from nbformat) (5.14.3)\n",
            "Requirement already satisfied: attrs>=22.2.0 in .\\venv\\lib\\site-packages (from jsonschema>=2.6->nbformat) (24.3.0)\n",
            "Requirement already satisfied: jsonschema-specifications>=2023.03.6 in .\\venv\\lib\\site-packages (from jsonschema>=2.6->nbformat) (2024.10.1)\n",
            "Requirement already satisfied: referencing>=0.28.4 in .\\venv\\lib\\site-packages (from jsonschema>=2.6->nbformat) (0.35.1)\n",
            "Requirement already satisfied: rpds-py>=0.7.1 in .\\venv\\lib\\site-packages (from jsonschema>=2.6->nbformat) (0.22.3)\n",
            "Requirement already satisfied: platformdirs>=2.5 in .\\venv\\lib\\site-packages (from jupyter-core!=5.0.*,>=4.12->nbformat) (4.3.6)\n",
            "Requirement already satisfied: pywin32>=300 in .\\venv\\lib\\site-packages (from jupyter-core!=5.0.*,>=4.12->nbformat) (308)\n",
            "Note: you may need to restart the kernel to use updated packages.\n",
            "Requirement already satisfied: pip in .\\venv\\lib\\site-packages (24.3.1)\n",
            "Note: you may need to restart the kernel to use updated packages.\n"
          ]
        }
      ],
      "source": [
        "%pip install pandas\n",
        "%pip install numpy\n",
        "%pip install plotly\n",
        "%pip install openpyxl\n",
        "%pip install --upgrade nbformat\n",
        "%pip install --upgrade pip"
      ]
    },
    {
      "cell_type": "code",
      "execution_count": 2,
      "metadata": {
        "id": "awY4GjSV7Rsg"
      },
      "outputs": [],
      "source": [
        "import pandas as pd\n",
        "import numpy as np\n",
        "import plotly.express as px"
      ]
    },
    {
      "cell_type": "markdown",
      "metadata": {
        "id": "CqJDLbyl7hOC"
      },
      "source": [
        "# **Reading Dataset**"
      ]
    },
    {
      "cell_type": "code",
      "execution_count": 3,
      "metadata": {
        "id": "g6gK1Z6J7m36"
      },
      "outputs": [],
      "source": [
        "customers=pd.read_csv('customers.csv')\n",
        "orders=pd.read_json('orders.json',lines=True)\n",
        "products=pd.read_excel('products.xlsx')"
      ]
    },
    {
      "cell_type": "markdown",
      "metadata": {
        "id": "EJNbWI9H42TC"
      },
      "source": [
        "# Part 01: Data Cleaning & Processing"
      ]
    },
    {
      "cell_type": "markdown",
      "metadata": {
        "id": "p5YvYpKN49-z"
      },
      "source": [
        "1.   Identify and handle missing values in the dataset.\n",
        "2.   Correct invalid product IDs and quantities.\n",
        "3.   Convert date columns to appropriate datetime format.\n",
        "4.   Merge data from different sources (CSV, Excel, JSON).\n",
        "5.  Remove duplicate entries and ensure data consistency."
      ]
    },
    {
      "cell_type": "markdown",
      "metadata": {
        "id": "SW7XfxHCSXEz"
      },
      "source": [
        "**Preprocessing Customers Data**"
      ]
    },
    {
      "cell_type": "code",
      "execution_count": 4,
      "metadata": {
        "colab": {
          "base_uri": "https://localhost:8080/"
        },
        "id": "zlYKei_L71xl",
        "outputId": "6587b89d-be9c-4f17-f39c-4839645bb264"
      },
      "outputs": [
        {
          "name": "stdout",
          "output_type": "stream",
          "text": [
            "<class 'pandas.core.frame.DataFrame'>\n",
            "RangeIndex: 100 entries, 0 to 99\n",
            "Data columns (total 6 columns):\n",
            " #   Column         Non-Null Count  Dtype \n",
            "---  ------         --------------  ----- \n",
            " 0   customer_id    100 non-null    int64 \n",
            " 1   customer_name  100 non-null    object\n",
            " 2   email          100 non-null    object\n",
            " 3   age            100 non-null    int64 \n",
            " 4   gender         77 non-null     object\n",
            " 5   join_date      100 non-null    object\n",
            "dtypes: int64(2), object(4)\n",
            "memory usage: 4.8+ KB\n"
          ]
        }
      ],
      "source": [
        "#check data quality of customers data\n",
        "customers.info()"
      ]
    },
    {
      "cell_type": "code",
      "execution_count": 5,
      "metadata": {
        "colab": {
          "base_uri": "https://localhost:8080/"
        },
        "id": "MfRFYDBd8MI5",
        "outputId": "ef85a1e4-d358-444c-fdee-5d05e347f46e"
      },
      "outputs": [
        {
          "data": {
            "text/plain": [
              "array(['Male', 'Female', 'Other', nan], dtype=object)"
            ]
          },
          "execution_count": 5,
          "metadata": {},
          "output_type": "execute_result"
        }
      ],
      "source": [
        "#Identifying unique genders\n",
        "customers['gender'].unique()"
      ]
    },
    {
      "cell_type": "code",
      "execution_count": 6,
      "metadata": {
        "id": "yKT9Cs2x8lLx"
      },
      "outputs": [],
      "source": [
        "#replace missing values for genders by \"Other\" as they are unknown\n",
        "customers['gender']=customers['gender'].fillna('Other')"
      ]
    },
    {
      "cell_type": "code",
      "execution_count": 7,
      "metadata": {
        "id": "zbuhDnIg-NDV"
      },
      "outputs": [],
      "source": [
        "#converting join dates to datetime\n",
        "customers['join_date']=pd.to_datetime(customers['join_date'])"
      ]
    },
    {
      "cell_type": "code",
      "execution_count": 8,
      "metadata": {
        "colab": {
          "base_uri": "https://localhost:8080/"
        },
        "id": "zmP3Iw1-BsQF",
        "outputId": "3eb40b26-32ec-4836-a3d6-91101a9aba22"
      },
      "outputs": [
        {
          "data": {
            "text/plain": [
              "array([1001, 1002, 1003, 1004, 1005, 1006, 1007, 1008, 1009, 1010, 1011,\n",
              "       1012, 1013, 1014, 1015, 1016, 1017, 1018, 1019, 1020, 1021, 1022,\n",
              "       1023, 1024, 1025, 1026, 1027, 1028, 1029, 1030, 1031, 1032, 1033,\n",
              "       1034, 1035, 1036, 1037, 1038, 1039, 1040, 1041, 1042, 1043, 1044,\n",
              "       1045, 1046, 1047, 1048, 1049, 1050, 1051, 1052, 1053, 1054, 1055,\n",
              "       1056, 1057, 1058, 1059, 1060, 1061, 1062, 1063, 1064, 1065, 1066,\n",
              "       1067, 1068, 1069, 1070, 1071, 1072, 1073, 1074, 1075, 1076, 1077,\n",
              "       1078, 1079, 1080, 1081, 1082, 1083, 1084, 1085, 1086, 1087, 1088,\n",
              "       1089, 1090, 1091, 1092, 1093, 1094, 1095, 1096, 1097, 1098, 1099,\n",
              "       1100])"
            ]
          },
          "execution_count": 8,
          "metadata": {},
          "output_type": "execute_result"
        }
      ],
      "source": [
        "#check unique customer id\n",
        "customers['customer_id'].unique()"
      ]
    },
    {
      "cell_type": "markdown",
      "metadata": {
        "id": "8z9o_EUNSdtN"
      },
      "source": [
        "**Preprocessing Products Data**"
      ]
    },
    {
      "cell_type": "code",
      "execution_count": 9,
      "metadata": {
        "colab": {
          "base_uri": "https://localhost:8080/"
        },
        "id": "6bFqt-ZRADN2",
        "outputId": "d4293aa3-f466-4275-a6df-5433792cfa31"
      },
      "outputs": [
        {
          "name": "stdout",
          "output_type": "stream",
          "text": [
            "<class 'pandas.core.frame.DataFrame'>\n",
            "RangeIndex: 50 entries, 0 to 49\n",
            "Data columns (total 4 columns):\n",
            " #   Column        Non-Null Count  Dtype  \n",
            "---  ------        --------------  -----  \n",
            " 0   product_id    50 non-null     int64  \n",
            " 1   product_name  50 non-null     object \n",
            " 2   category      50 non-null     object \n",
            " 3   price         50 non-null     float64\n",
            "dtypes: float64(1), int64(1), object(2)\n",
            "memory usage: 1.7+ KB\n"
          ]
        }
      ],
      "source": [
        "#check data quality of products data\n",
        "products.info()"
      ]
    },
    {
      "cell_type": "code",
      "execution_count": 10,
      "metadata": {
        "colab": {
          "base_uri": "https://localhost:8080/"
        },
        "id": "4n9bmhfnAVOO",
        "outputId": "c8829a69-ba1f-47eb-ffbf-ad03a2d63630"
      },
      "outputs": [
        {
          "data": {
            "text/plain": [
              "array([101, 102, 103, 104, 105, 106, 107, 108, 109, 110, 111, 112, 113,\n",
              "       114, 115, 116, 117, 118, 119, 120, 121, 122, 123, 124, 125, 126,\n",
              "       127, 128, 129, 130, 131, 132, 133, 134, 135, 136, 137, 138, 139,\n",
              "       140, 141, 142, 143, 144, 145, 146, 147, 148, 149, 150])"
            ]
          },
          "execution_count": 10,
          "metadata": {},
          "output_type": "execute_result"
        }
      ],
      "source": [
        "#check unique products id\n",
        "products['product_id'].unique()"
      ]
    },
    {
      "cell_type": "code",
      "execution_count": 11,
      "metadata": {
        "colab": {
          "base_uri": "https://localhost:8080/"
        },
        "id": "2KySmOD1Af3d",
        "outputId": "80dc3ff1-aa1f-49dc-d10f-8441bd368442"
      },
      "outputs": [
        {
          "data": {
            "text/plain": [
              "array(['Product_1', 'Product_2', 'Product_3', 'Product_4', 'Product_5',\n",
              "       'Product_6', 'Product_7', 'Product_8', 'Product_9', 'Product_10',\n",
              "       'Product_11', 'Product_12', 'Product_13', 'Product_14',\n",
              "       'Product_15', 'Product_16', 'Product_17', 'Product_18',\n",
              "       'Product_19', 'Product_20', 'Product_21', 'Product_22',\n",
              "       'Product_23', 'Product_24', 'Product_25', 'Product_26',\n",
              "       'Product_27', 'Product_28', 'Product_29', 'Product_30',\n",
              "       'Product_31', 'Product_32', 'Product_33', 'Product_34',\n",
              "       'Product_35', 'Product_36', 'Product_37', 'Product_38',\n",
              "       'Product_39', 'Product_40', 'Product_41', 'Product_42',\n",
              "       'Product_43', 'Product_44', 'Product_45', 'Product_46',\n",
              "       'Product_47', 'Product_48', 'Product_49', 'Product_50'],\n",
              "      dtype=object)"
            ]
          },
          "execution_count": 11,
          "metadata": {},
          "output_type": "execute_result"
        }
      ],
      "source": [
        "#check unique product names\n",
        "products['product_name'].unique()"
      ]
    },
    {
      "cell_type": "code",
      "execution_count": 12,
      "metadata": {
        "colab": {
          "base_uri": "https://localhost:8080/"
        },
        "id": "zL6aBBBlBCKF",
        "outputId": "bb63dd85-066b-4622-8d45-a63559ec2719"
      },
      "outputs": [
        {
          "data": {
            "text/plain": [
              "array(['Books', 'Clothing', 'Home Appliances', 'Electronics'],\n",
              "      dtype=object)"
            ]
          },
          "execution_count": 12,
          "metadata": {},
          "output_type": "execute_result"
        }
      ],
      "source": [
        "#check unqiue categories\n",
        "products['category'].unique()"
      ]
    },
    {
      "cell_type": "markdown",
      "metadata": {
        "id": "pF7O39sHS1hi"
      },
      "source": [
        "**Preprocessing Orders Data**"
      ]
    },
    {
      "cell_type": "code",
      "execution_count": 13,
      "metadata": {
        "colab": {
          "base_uri": "https://localhost:8080/"
        },
        "id": "Ka-eZzsRBVz2",
        "outputId": "8e595559-13e5-4547-c668-3b5dd662b6c0"
      },
      "outputs": [
        {
          "name": "stdout",
          "output_type": "stream",
          "text": [
            "<class 'pandas.core.frame.DataFrame'>\n",
            "RangeIndex: 200 entries, 0 to 199\n",
            "Data columns (total 7 columns):\n",
            " #   Column          Non-Null Count  Dtype \n",
            "---  ------          --------------  ----- \n",
            " 0   order_id        200 non-null    int64 \n",
            " 1   customer_id     191 non-null    object\n",
            " 2   product_id      200 non-null    int64 \n",
            " 3   quantity        200 non-null    int64 \n",
            " 4   order_date      200 non-null    int64 \n",
            " 5   payment_method  200 non-null    object\n",
            " 6   status          200 non-null    object\n",
            "dtypes: int64(4), object(3)\n",
            "memory usage: 11.1+ KB\n"
          ]
        }
      ],
      "source": [
        "#check data quality of orders data\n",
        "orders.info()"
      ]
    },
    {
      "cell_type": "code",
      "execution_count": 14,
      "metadata": {
        "colab": {
          "base_uri": "https://localhost:8080/"
        },
        "id": "0b4299f6WTwj",
        "outputId": "ffbc79a6-a68b-46c6-a661-f20c898c9de1"
      },
      "outputs": [
        {
          "data": {
            "text/plain": [
              "array([101, 102, 103, 104, 105, 106, 107, 108, 109, 110, 111, 112, 113,\n",
              "       114, 115, 116, 117, 120, 122, 123, 124, 125, 126, 127, 128, 129,\n",
              "       130, 131, 132, 133, 134, 135, 136, 137, 138, 139, 140, 141, 142,\n",
              "       143, 144, 145, 146, 147, 148, 149, 150, 999])"
            ]
          },
          "execution_count": 14,
          "metadata": {},
          "output_type": "execute_result"
        }
      ],
      "source": [
        "#check unique products id\n",
        "orders['product_id'].sort_values().unique()"
      ]
    },
    {
      "cell_type": "markdown",
      "metadata": {
        "id": "G6sv6En_gFag"
      },
      "source": [
        "**Product id 999 is not in product information but occurs in orders table, so disucss with relevant authority(for example data base admin) and identify the information related to product id. Assuming 999 is related to Pet Supply Catgeory  with price 1000, the simplest appraoch is to drop missing product information from orders data**"
      ]
    },
    {
      "cell_type": "code",
      "execution_count": 15,
      "metadata": {
        "id": "wU24e3PtiTgk"
      },
      "outputs": [],
      "source": [
        "missing_products = pd.DataFrame({\n",
        "    'product_id': [999],\n",
        "    'category': ['Pet Supply'],\n",
        "    'price': [1000],\n",
        "    'product_name': ['Product_999']\n",
        "})\n",
        "products = pd.concat([products, missing_products], ignore_index=True)\n"
      ]
    },
    {
      "cell_type": "code",
      "execution_count": 16,
      "metadata": {
        "colab": {
          "base_uri": "https://localhost:8080/"
        },
        "id": "qNq7LBCLjoW5",
        "outputId": "623364ac-8fb3-4cb7-f0ab-1ecb5b443be6"
      },
      "outputs": [
        {
          "data": {
            "text/plain": [
              "array([1071.0, 1088.0, 1083.0, 1099.0, 1028.0, 1086.0, 1090.0, 1082.0,\n",
              "       1072.0, 1013.0, 1076.0, 1016.0, 1037.0, '?', 1045.0, 1075.0,\n",
              "       1091.0, None, 1050.0, 1034.0, 1049.0, 1067.0, 1062.0, 1031.0,\n",
              "       1014.0, 1063.0, 1092.0, 1006.0, 1096.0, 1015.0, 1059.0, 1038.0,\n",
              "       1064.0, 1053.0, 1044.0, 1078.0, 1027.0, 1060.0, 1022.0, 1048.0,\n",
              "       1017.0, 1007.0, 1085.0, 1026.0, 1005.0, 1093.0, 1018.0, 1100.0,\n",
              "       1041.0, 1024.0, 1074.0, 1054.0, 1065.0, 1039.0, 1019.0, 1029.0,\n",
              "       1055.0, 1036.0, 1089.0, 1042.0, 1056.0, 1033.0, 1073.0, 1035.0,\n",
              "       1003.0, 1051.0, 1068.0, 1094.0, 1057.0, 1043.0, 1080.0, 1001.0,\n",
              "       1025.0, 1097.0, 1040.0, 1077.0, 1081.0, 1002.0, 1058.0, 1023.0,\n",
              "       1021.0, 1052.0, 1095.0, 1009.0, 1030.0, 1061.0, 1046.0, 1010.0],\n",
              "      dtype=object)"
            ]
          },
          "execution_count": 16,
          "metadata": {},
          "output_type": "execute_result"
        }
      ],
      "source": [
        "#check unique customer id\n",
        "orders['customer_id'].unique()"
      ]
    },
    {
      "cell_type": "code",
      "execution_count": 17,
      "metadata": {
        "id": "sQ7c8jJ5F6-y"
      },
      "outputs": [],
      "source": [
        "#replace special character by ?\n",
        "orders['customer_id'] = orders['customer_id'].replace('?',None)"
      ]
    },
    {
      "cell_type": "code",
      "execution_count": 18,
      "metadata": {
        "colab": {
          "base_uri": "https://localhost:8080/"
        },
        "id": "Wfs43KIkGU0Y",
        "outputId": "5d3f0b8e-540e-4f47-d2b0-5964fad40ea7"
      },
      "outputs": [
        {
          "name": "stderr",
          "output_type": "stream",
          "text": [
            "C:\\Users\\Sabih\\AppData\\Local\\Temp\\ipykernel_16032\\805588478.py:2: FutureWarning: Downcasting object dtype arrays on .fillna, .ffill, .bfill is deprecated and will change in a future version. Call result.infer_objects(copy=False) instead. To opt-in to the future behavior, set `pd.set_option('future.no_silent_downcasting', True)`\n",
            "  orders['customer_id'] = orders['customer_id'].fillna(orders['customer_id'].mode()[0])\n"
          ]
        }
      ],
      "source": [
        "#replace none by mode\n",
        "orders['customer_id'] = orders['customer_id'].fillna(orders['customer_id'].mode()[0])"
      ]
    },
    {
      "cell_type": "code",
      "execution_count": 19,
      "metadata": {
        "id": "SNlb1UFpGXGb"
      },
      "outputs": [],
      "source": [
        "#convert str type of id to int\n",
        "orders['customer_id'] = orders['customer_id'].astype(int)"
      ]
    },
    {
      "cell_type": "code",
      "execution_count": 20,
      "metadata": {
        "id": "YTynvShDG6JP"
      },
      "outputs": [],
      "source": [
        "#format order date\n",
        "orders['order_date']=pd.to_datetime(orders['order_date'],unit='ms')"
      ]
    },
    {
      "cell_type": "code",
      "execution_count": 21,
      "metadata": {
        "colab": {
          "base_uri": "https://localhost:8080/"
        },
        "id": "tbMBGWrIIG9H",
        "outputId": "3d9d57cb-12b2-4419-e88e-9383afbe286f"
      },
      "outputs": [
        {
          "data": {
            "text/plain": [
              "array([ 2,  3,  1,  4, -1])"
            ]
          },
          "execution_count": 21,
          "metadata": {},
          "output_type": "execute_result"
        }
      ],
      "source": [
        "#check unique values of order quantity\n",
        "orders['quantity'].unique()"
      ]
    },
    {
      "cell_type": "code",
      "execution_count": 22,
      "metadata": {
        "id": "XCMASl3VHo2H"
      },
      "outputs": [],
      "source": [
        "#convert -1 value of quantity with 1\n",
        "orders['quantity']=orders['quantity'].replace(-1,1)"
      ]
    },
    {
      "cell_type": "markdown",
      "metadata": {
        "id": "OjlKdZRQUErc"
      },
      "source": [
        "**Merging Data orders with customer on customer id and product on product id**"
      ]
    },
    {
      "cell_type": "code",
      "execution_count": 23,
      "metadata": {
        "id": "3J3puCNDUOv6"
      },
      "outputs": [],
      "source": [
        "orders_customers = orders.merge(customers, on='customer_id',how='left')"
      ]
    },
    {
      "cell_type": "code",
      "execution_count": 24,
      "metadata": {
        "colab": {
          "base_uri": "https://localhost:8080/"
        },
        "id": "W6h99mptY_ln",
        "outputId": "2a86722a-2d2e-4ba2-94bc-9d8e6710b093"
      },
      "outputs": [
        {
          "data": {
            "text/plain": [
              "order_id          0\n",
              "customer_id       0\n",
              "product_id        0\n",
              "quantity          0\n",
              "order_date        0\n",
              "payment_method    0\n",
              "status            0\n",
              "customer_name     0\n",
              "email             0\n",
              "age               0\n",
              "gender            0\n",
              "join_date         0\n",
              "dtype: int64"
            ]
          },
          "execution_count": 24,
          "metadata": {},
          "output_type": "execute_result"
        }
      ],
      "source": [
        "orders_customers.isna().sum()"
      ]
    },
    {
      "cell_type": "code",
      "execution_count": 25,
      "metadata": {
        "id": "s-__7CLCWMBK"
      },
      "outputs": [],
      "source": [
        "orders_customers_products =orders_customers.merge(products, on='product_id',how='left')"
      ]
    },
    {
      "cell_type": "code",
      "execution_count": 26,
      "metadata": {
        "colab": {
          "base_uri": "https://localhost:8080/"
        },
        "id": "m9dOpWd3UTSj",
        "outputId": "b2dc7217-a594-414c-c4f9-48abbb947bab"
      },
      "outputs": [
        {
          "name": "stdout",
          "output_type": "stream",
          "text": [
            "<class 'pandas.core.frame.DataFrame'>\n",
            "RangeIndex: 200 entries, 0 to 199\n",
            "Data columns (total 15 columns):\n",
            " #   Column          Non-Null Count  Dtype         \n",
            "---  ------          --------------  -----         \n",
            " 0   order_id        200 non-null    int64         \n",
            " 1   customer_id     200 non-null    int64         \n",
            " 2   product_id      200 non-null    int64         \n",
            " 3   quantity        200 non-null    int64         \n",
            " 4   order_date      200 non-null    datetime64[ns]\n",
            " 5   payment_method  200 non-null    object        \n",
            " 6   status          200 non-null    object        \n",
            " 7   customer_name   200 non-null    object        \n",
            " 8   email           200 non-null    object        \n",
            " 9   age             200 non-null    int64         \n",
            " 10  gender          200 non-null    object        \n",
            " 11  join_date       200 non-null    datetime64[ns]\n",
            " 12  product_name    200 non-null    object        \n",
            " 13  category        200 non-null    object        \n",
            " 14  price           200 non-null    float64       \n",
            "dtypes: datetime64[ns](2), float64(1), int64(5), object(7)\n",
            "memory usage: 23.6+ KB\n"
          ]
        }
      ],
      "source": [
        "orders_customers_products.info()"
      ]
    },
    {
      "cell_type": "code",
      "execution_count": 27,
      "metadata": {
        "id": "YvGehuD5nMsr"
      },
      "outputs": [],
      "source": [
        "#add revenue to the data\n",
        "orders_customers_products['revenue'] = orders_customers_products.apply(\n",
        "    lambda row: row['quantity'] * row['price'] if row['status'] == 'Completed' else 0,\n",
        "    axis=1\n",
        ")"
      ]
    },
    {
      "cell_type": "code",
      "execution_count": 28,
      "metadata": {
        "colab": {
          "base_uri": "https://localhost:8080/"
        },
        "id": "BVC6jSkYm4K4",
        "outputId": "f9354060-5235-4ef6-a7b9-63ac52d9336b"
      },
      "outputs": [
        {
          "data": {
            "text/plain": [
              "array([2, 3, 1, 4])"
            ]
          },
          "execution_count": 28,
          "metadata": {},
          "output_type": "execute_result"
        }
      ],
      "source": [
        "#check quantity\n",
        "orders_customers_products['quantity'].unique()"
      ]
    },
    {
      "cell_type": "code",
      "execution_count": 29,
      "metadata": {
        "colab": {
          "base_uri": "https://localhost:8080/"
        },
        "id": "lZuhBDu7mTzO",
        "outputId": "f9e6d327-28e9-4990-ee57-ff14fa6c607b"
      },
      "outputs": [
        {
          "data": {
            "text/plain": [
              "array(['Pending', '', 'Returned', 'Completed', 'Cancelled'], dtype=object)"
            ]
          },
          "execution_count": 29,
          "metadata": {},
          "output_type": "execute_result"
        }
      ],
      "source": [
        "#check status\n",
        "orders_customers_products['status'].unique()"
      ]
    },
    {
      "cell_type": "code",
      "execution_count": 30,
      "metadata": {
        "id": "ohAYlXCGyef1"
      },
      "outputs": [],
      "source": [
        "#replace '' value by 'Pending'\n",
        "orders_customers_products['status'] = orders_customers_products['status'].replace('', 'Pending')"
      ]
    },
    {
      "cell_type": "code",
      "execution_count": 31,
      "metadata": {
        "colab": {
          "base_uri": "https://localhost:8080/"
        },
        "id": "ZffeV2hmmAh5",
        "outputId": "c53f4e73-909a-487d-c0bd-bc06ebdb1844"
      },
      "outputs": [
        {
          "data": {
            "text/plain": [
              "array(['PayPal', 'Credit Card', 'Debit Card', ''], dtype=object)"
            ]
          },
          "execution_count": 31,
          "metadata": {},
          "output_type": "execute_result"
        }
      ],
      "source": [
        "#check payment methods\n",
        "orders_customers_products['payment_method'].unique()"
      ]
    },
    {
      "cell_type": "code",
      "execution_count": 32,
      "metadata": {
        "id": "umn7pnswmIyx"
      },
      "outputs": [],
      "source": [
        "#replace '' values by COD\n",
        "orders_customers_products['payment_method'] = orders_customers_products['payment_method'].replace('', 'COD')"
      ]
    },
    {
      "cell_type": "markdown",
      "metadata": {
        "id": "0olCeO7L5eDZ"
      },
      "source": [
        "# Part # 02: Data Analysis & Visualization:"
      ]
    },
    {
      "cell_type": "markdown",
      "metadata": {
        "id": "q0zhyQnv5k0W"
      },
      "source": [
        "\n",
        "\n",
        "\n",
        "1. Plot the number of orders over time and analyze trends.\n",
        "2. Create a pie chart to show the distribution of payment methods.\n",
        "3. Aggregate data to find the top 5 products by sales quantity.\n",
        "4. Visualize the sales revenue over time by category.\n",
        "5. Identify and visualize the age distribution of customers.\n",
        "\n",
        "\n",
        "\n"
      ]
    },
    {
      "cell_type": "markdown",
      "metadata": {
        "id": "BOE_T7Q2-9jE"
      },
      "source": [
        "**Answer 1**"
      ]
    },
    {
      "cell_type": "code",
      "execution_count": 33,
      "metadata": {
        "id": "4pkoybW-AU4S"
      },
      "outputs": [],
      "source": [
        "orders_by_date=orders_customers_products.groupby('order_date')['quantity'].sum().reset_index(name='Total Orders')"
      ]
    },
    {
      "cell_type": "code",
      "execution_count": 34,
      "metadata": {
        "colab": {
          "base_uri": "https://localhost:8080/",
          "height": 542
        },
        "id": "O5bI6IlK-818",
        "outputId": "851c01d4-23b9-4836-9c94-2feb673ea37c"
      },
      "outputs": [
        {
          "data": {
            "application/vnd.plotly.v1+json": {
              "config": {
                "plotlyServerURL": "https://plot.ly"
              },
              "data": [
                {
                  "hovertemplate": "order_date=%{x}<br>Total Orders=%{y}<extra></extra>",
                  "legendgroup": "",
                  "line": {
                    "color": "#636efa",
                    "dash": "solid"
                  },
                  "marker": {
                    "symbol": "circle"
                  },
                  "mode": "lines",
                  "name": "",
                  "orientation": "v",
                  "showlegend": false,
                  "type": "scatter",
                  "x": [
                    "2023-01-02T00:00:00",
                    "2023-01-05T00:00:00",
                    "2023-01-06T00:00:00",
                    "2023-01-07T00:00:00",
                    "2023-01-08T00:00:00",
                    "2023-01-12T00:00:00",
                    "2023-01-16T00:00:00",
                    "2023-01-17T00:00:00",
                    "2023-01-18T00:00:00",
                    "2023-01-20T00:00:00",
                    "2023-01-27T00:00:00",
                    "2023-02-03T00:00:00",
                    "2023-02-09T00:00:00",
                    "2023-02-11T00:00:00",
                    "2023-02-12T00:00:00",
                    "2023-02-13T00:00:00",
                    "2023-02-15T00:00:00",
                    "2023-02-19T00:00:00",
                    "2023-02-20T00:00:00",
                    "2023-02-22T00:00:00",
                    "2023-02-24T00:00:00",
                    "2023-03-02T00:00:00",
                    "2023-03-03T00:00:00",
                    "2023-03-04T00:00:00",
                    "2023-03-06T00:00:00",
                    "2023-03-07T00:00:00",
                    "2023-03-12T00:00:00",
                    "2023-03-14T00:00:00",
                    "2023-03-15T00:00:00",
                    "2023-03-20T00:00:00",
                    "2023-03-21T00:00:00",
                    "2023-03-23T00:00:00",
                    "2023-03-28T00:00:00",
                    "2023-03-29T00:00:00",
                    "2023-04-01T00:00:00",
                    "2023-04-04T00:00:00",
                    "2023-04-06T00:00:00",
                    "2023-04-10T00:00:00",
                    "2023-04-11T00:00:00",
                    "2023-04-15T00:00:00",
                    "2023-04-25T00:00:00",
                    "2023-04-30T00:00:00",
                    "2023-05-04T00:00:00",
                    "2023-05-07T00:00:00",
                    "2023-05-09T00:00:00",
                    "2023-05-10T00:00:00",
                    "2023-05-14T00:00:00",
                    "2023-05-16T00:00:00",
                    "2023-05-17T00:00:00",
                    "2023-05-19T00:00:00",
                    "2023-05-25T00:00:00",
                    "2023-05-27T00:00:00",
                    "2023-05-28T00:00:00",
                    "2023-05-30T00:00:00",
                    "2023-06-02T00:00:00",
                    "2023-06-08T00:00:00",
                    "2023-06-10T00:00:00",
                    "2023-06-15T00:00:00",
                    "2023-06-17T00:00:00",
                    "2023-06-20T00:00:00",
                    "2023-06-22T00:00:00",
                    "2023-06-24T00:00:00",
                    "2023-06-27T00:00:00",
                    "2023-06-29T00:00:00",
                    "2023-07-02T00:00:00",
                    "2023-07-06T00:00:00",
                    "2023-07-08T00:00:00",
                    "2023-07-09T00:00:00",
                    "2023-07-11T00:00:00",
                    "2023-07-15T00:00:00",
                    "2023-07-21T00:00:00",
                    "2023-07-22T00:00:00",
                    "2023-07-25T00:00:00",
                    "2023-07-26T00:00:00",
                    "2023-08-02T00:00:00",
                    "2023-08-03T00:00:00",
                    "2023-08-05T00:00:00",
                    "2023-08-06T00:00:00",
                    "2023-08-07T00:00:00",
                    "2023-08-09T00:00:00",
                    "2023-08-12T00:00:00",
                    "2023-08-14T00:00:00",
                    "2023-08-16T00:00:00",
                    "2023-08-18T00:00:00",
                    "2023-08-22T00:00:00",
                    "2023-08-24T00:00:00",
                    "2023-08-25T00:00:00",
                    "2023-08-31T00:00:00",
                    "2023-09-03T00:00:00",
                    "2023-09-07T00:00:00",
                    "2023-09-08T00:00:00",
                    "2023-09-11T00:00:00",
                    "2023-09-12T00:00:00",
                    "2023-09-13T00:00:00",
                    "2023-09-15T00:00:00",
                    "2023-09-18T00:00:00",
                    "2023-09-19T00:00:00",
                    "2023-09-22T00:00:00",
                    "2023-09-29T00:00:00",
                    "2023-10-02T00:00:00",
                    "2023-10-05T00:00:00",
                    "2023-10-07T00:00:00",
                    "2023-10-08T00:00:00",
                    "2023-10-09T00:00:00",
                    "2023-10-10T00:00:00",
                    "2023-10-12T00:00:00",
                    "2023-10-15T00:00:00",
                    "2023-10-17T00:00:00",
                    "2023-10-18T00:00:00",
                    "2023-10-19T00:00:00",
                    "2023-10-22T00:00:00",
                    "2023-10-25T00:00:00",
                    "2023-10-26T00:00:00",
                    "2023-10-27T00:00:00",
                    "2023-10-28T00:00:00",
                    "2023-10-29T00:00:00",
                    "2023-11-02T00:00:00",
                    "2023-11-03T00:00:00",
                    "2023-11-06T00:00:00",
                    "2023-11-09T00:00:00",
                    "2023-11-10T00:00:00",
                    "2023-11-12T00:00:00",
                    "2023-11-16T00:00:00",
                    "2023-11-17T00:00:00",
                    "2023-11-22T00:00:00",
                    "2023-11-27T00:00:00",
                    "2023-11-30T00:00:00",
                    "2023-12-01T00:00:00",
                    "2023-12-02T00:00:00",
                    "2023-12-04T00:00:00",
                    "2023-12-06T00:00:00",
                    "2023-12-08T00:00:00",
                    "2023-12-11T00:00:00",
                    "2023-12-12T00:00:00",
                    "2023-12-17T00:00:00",
                    "2023-12-19T00:00:00",
                    "2023-12-20T00:00:00",
                    "2023-12-23T00:00:00",
                    "2023-12-24T00:00:00",
                    "2023-12-25T00:00:00",
                    "2023-12-28T00:00:00",
                    "2024-01-01T00:00:00",
                    "2025-01-01T00:00:00"
                  ],
                  "xaxis": "x",
                  "y": [
                    2,
                    6,
                    5,
                    4,
                    1,
                    4,
                    4,
                    1,
                    2,
                    7,
                    4,
                    3,
                    6,
                    1,
                    1,
                    1,
                    4,
                    2,
                    2,
                    1,
                    3,
                    3,
                    4,
                    2,
                    4,
                    3,
                    4,
                    6,
                    1,
                    3,
                    6,
                    3,
                    3,
                    3,
                    1,
                    5,
                    4,
                    2,
                    4,
                    2,
                    8,
                    4,
                    4,
                    4,
                    2,
                    4,
                    5,
                    1,
                    1,
                    4,
                    4,
                    4,
                    7,
                    3,
                    2,
                    4,
                    3,
                    3,
                    5,
                    4,
                    1,
                    4,
                    1,
                    3,
                    8,
                    2,
                    1,
                    2,
                    4,
                    7,
                    2,
                    4,
                    1,
                    1,
                    4,
                    4,
                    3,
                    1,
                    1,
                    7,
                    3,
                    4,
                    1,
                    5,
                    1,
                    2,
                    10,
                    2,
                    2,
                    2,
                    1,
                    3,
                    2,
                    1,
                    1,
                    4,
                    4,
                    4,
                    2,
                    3,
                    8,
                    4,
                    1,
                    2,
                    2,
                    4,
                    4,
                    1,
                    4,
                    3,
                    1,
                    3,
                    4,
                    3,
                    4,
                    3,
                    1,
                    1,
                    3,
                    8,
                    3,
                    2,
                    7,
                    4,
                    8,
                    1,
                    3,
                    2,
                    1,
                    3,
                    3,
                    1,
                    3,
                    6,
                    5,
                    1,
                    10,
                    3,
                    3,
                    3,
                    5,
                    5,
                    17
                  ],
                  "yaxis": "y"
                }
              ],
              "layout": {
                "legend": {
                  "tracegroupgap": 0
                },
                "template": {
                  "data": {
                    "bar": [
                      {
                        "error_x": {
                          "color": "#2a3f5f"
                        },
                        "error_y": {
                          "color": "#2a3f5f"
                        },
                        "marker": {
                          "line": {
                            "color": "#E5ECF6",
                            "width": 0.5
                          },
                          "pattern": {
                            "fillmode": "overlay",
                            "size": 10,
                            "solidity": 0.2
                          }
                        },
                        "type": "bar"
                      }
                    ],
                    "barpolar": [
                      {
                        "marker": {
                          "line": {
                            "color": "#E5ECF6",
                            "width": 0.5
                          },
                          "pattern": {
                            "fillmode": "overlay",
                            "size": 10,
                            "solidity": 0.2
                          }
                        },
                        "type": "barpolar"
                      }
                    ],
                    "carpet": [
                      {
                        "aaxis": {
                          "endlinecolor": "#2a3f5f",
                          "gridcolor": "white",
                          "linecolor": "white",
                          "minorgridcolor": "white",
                          "startlinecolor": "#2a3f5f"
                        },
                        "baxis": {
                          "endlinecolor": "#2a3f5f",
                          "gridcolor": "white",
                          "linecolor": "white",
                          "minorgridcolor": "white",
                          "startlinecolor": "#2a3f5f"
                        },
                        "type": "carpet"
                      }
                    ],
                    "choropleth": [
                      {
                        "colorbar": {
                          "outlinewidth": 0,
                          "ticks": ""
                        },
                        "type": "choropleth"
                      }
                    ],
                    "contour": [
                      {
                        "colorbar": {
                          "outlinewidth": 0,
                          "ticks": ""
                        },
                        "colorscale": [
                          [
                            0,
                            "#0d0887"
                          ],
                          [
                            0.1111111111111111,
                            "#46039f"
                          ],
                          [
                            0.2222222222222222,
                            "#7201a8"
                          ],
                          [
                            0.3333333333333333,
                            "#9c179e"
                          ],
                          [
                            0.4444444444444444,
                            "#bd3786"
                          ],
                          [
                            0.5555555555555556,
                            "#d8576b"
                          ],
                          [
                            0.6666666666666666,
                            "#ed7953"
                          ],
                          [
                            0.7777777777777778,
                            "#fb9f3a"
                          ],
                          [
                            0.8888888888888888,
                            "#fdca26"
                          ],
                          [
                            1,
                            "#f0f921"
                          ]
                        ],
                        "type": "contour"
                      }
                    ],
                    "contourcarpet": [
                      {
                        "colorbar": {
                          "outlinewidth": 0,
                          "ticks": ""
                        },
                        "type": "contourcarpet"
                      }
                    ],
                    "heatmap": [
                      {
                        "colorbar": {
                          "outlinewidth": 0,
                          "ticks": ""
                        },
                        "colorscale": [
                          [
                            0,
                            "#0d0887"
                          ],
                          [
                            0.1111111111111111,
                            "#46039f"
                          ],
                          [
                            0.2222222222222222,
                            "#7201a8"
                          ],
                          [
                            0.3333333333333333,
                            "#9c179e"
                          ],
                          [
                            0.4444444444444444,
                            "#bd3786"
                          ],
                          [
                            0.5555555555555556,
                            "#d8576b"
                          ],
                          [
                            0.6666666666666666,
                            "#ed7953"
                          ],
                          [
                            0.7777777777777778,
                            "#fb9f3a"
                          ],
                          [
                            0.8888888888888888,
                            "#fdca26"
                          ],
                          [
                            1,
                            "#f0f921"
                          ]
                        ],
                        "type": "heatmap"
                      }
                    ],
                    "heatmapgl": [
                      {
                        "colorbar": {
                          "outlinewidth": 0,
                          "ticks": ""
                        },
                        "colorscale": [
                          [
                            0,
                            "#0d0887"
                          ],
                          [
                            0.1111111111111111,
                            "#46039f"
                          ],
                          [
                            0.2222222222222222,
                            "#7201a8"
                          ],
                          [
                            0.3333333333333333,
                            "#9c179e"
                          ],
                          [
                            0.4444444444444444,
                            "#bd3786"
                          ],
                          [
                            0.5555555555555556,
                            "#d8576b"
                          ],
                          [
                            0.6666666666666666,
                            "#ed7953"
                          ],
                          [
                            0.7777777777777778,
                            "#fb9f3a"
                          ],
                          [
                            0.8888888888888888,
                            "#fdca26"
                          ],
                          [
                            1,
                            "#f0f921"
                          ]
                        ],
                        "type": "heatmapgl"
                      }
                    ],
                    "histogram": [
                      {
                        "marker": {
                          "pattern": {
                            "fillmode": "overlay",
                            "size": 10,
                            "solidity": 0.2
                          }
                        },
                        "type": "histogram"
                      }
                    ],
                    "histogram2d": [
                      {
                        "colorbar": {
                          "outlinewidth": 0,
                          "ticks": ""
                        },
                        "colorscale": [
                          [
                            0,
                            "#0d0887"
                          ],
                          [
                            0.1111111111111111,
                            "#46039f"
                          ],
                          [
                            0.2222222222222222,
                            "#7201a8"
                          ],
                          [
                            0.3333333333333333,
                            "#9c179e"
                          ],
                          [
                            0.4444444444444444,
                            "#bd3786"
                          ],
                          [
                            0.5555555555555556,
                            "#d8576b"
                          ],
                          [
                            0.6666666666666666,
                            "#ed7953"
                          ],
                          [
                            0.7777777777777778,
                            "#fb9f3a"
                          ],
                          [
                            0.8888888888888888,
                            "#fdca26"
                          ],
                          [
                            1,
                            "#f0f921"
                          ]
                        ],
                        "type": "histogram2d"
                      }
                    ],
                    "histogram2dcontour": [
                      {
                        "colorbar": {
                          "outlinewidth": 0,
                          "ticks": ""
                        },
                        "colorscale": [
                          [
                            0,
                            "#0d0887"
                          ],
                          [
                            0.1111111111111111,
                            "#46039f"
                          ],
                          [
                            0.2222222222222222,
                            "#7201a8"
                          ],
                          [
                            0.3333333333333333,
                            "#9c179e"
                          ],
                          [
                            0.4444444444444444,
                            "#bd3786"
                          ],
                          [
                            0.5555555555555556,
                            "#d8576b"
                          ],
                          [
                            0.6666666666666666,
                            "#ed7953"
                          ],
                          [
                            0.7777777777777778,
                            "#fb9f3a"
                          ],
                          [
                            0.8888888888888888,
                            "#fdca26"
                          ],
                          [
                            1,
                            "#f0f921"
                          ]
                        ],
                        "type": "histogram2dcontour"
                      }
                    ],
                    "mesh3d": [
                      {
                        "colorbar": {
                          "outlinewidth": 0,
                          "ticks": ""
                        },
                        "type": "mesh3d"
                      }
                    ],
                    "parcoords": [
                      {
                        "line": {
                          "colorbar": {
                            "outlinewidth": 0,
                            "ticks": ""
                          }
                        },
                        "type": "parcoords"
                      }
                    ],
                    "pie": [
                      {
                        "automargin": true,
                        "type": "pie"
                      }
                    ],
                    "scatter": [
                      {
                        "fillpattern": {
                          "fillmode": "overlay",
                          "size": 10,
                          "solidity": 0.2
                        },
                        "type": "scatter"
                      }
                    ],
                    "scatter3d": [
                      {
                        "line": {
                          "colorbar": {
                            "outlinewidth": 0,
                            "ticks": ""
                          }
                        },
                        "marker": {
                          "colorbar": {
                            "outlinewidth": 0,
                            "ticks": ""
                          }
                        },
                        "type": "scatter3d"
                      }
                    ],
                    "scattercarpet": [
                      {
                        "marker": {
                          "colorbar": {
                            "outlinewidth": 0,
                            "ticks": ""
                          }
                        },
                        "type": "scattercarpet"
                      }
                    ],
                    "scattergeo": [
                      {
                        "marker": {
                          "colorbar": {
                            "outlinewidth": 0,
                            "ticks": ""
                          }
                        },
                        "type": "scattergeo"
                      }
                    ],
                    "scattergl": [
                      {
                        "marker": {
                          "colorbar": {
                            "outlinewidth": 0,
                            "ticks": ""
                          }
                        },
                        "type": "scattergl"
                      }
                    ],
                    "scattermapbox": [
                      {
                        "marker": {
                          "colorbar": {
                            "outlinewidth": 0,
                            "ticks": ""
                          }
                        },
                        "type": "scattermapbox"
                      }
                    ],
                    "scatterpolar": [
                      {
                        "marker": {
                          "colorbar": {
                            "outlinewidth": 0,
                            "ticks": ""
                          }
                        },
                        "type": "scatterpolar"
                      }
                    ],
                    "scatterpolargl": [
                      {
                        "marker": {
                          "colorbar": {
                            "outlinewidth": 0,
                            "ticks": ""
                          }
                        },
                        "type": "scatterpolargl"
                      }
                    ],
                    "scatterternary": [
                      {
                        "marker": {
                          "colorbar": {
                            "outlinewidth": 0,
                            "ticks": ""
                          }
                        },
                        "type": "scatterternary"
                      }
                    ],
                    "surface": [
                      {
                        "colorbar": {
                          "outlinewidth": 0,
                          "ticks": ""
                        },
                        "colorscale": [
                          [
                            0,
                            "#0d0887"
                          ],
                          [
                            0.1111111111111111,
                            "#46039f"
                          ],
                          [
                            0.2222222222222222,
                            "#7201a8"
                          ],
                          [
                            0.3333333333333333,
                            "#9c179e"
                          ],
                          [
                            0.4444444444444444,
                            "#bd3786"
                          ],
                          [
                            0.5555555555555556,
                            "#d8576b"
                          ],
                          [
                            0.6666666666666666,
                            "#ed7953"
                          ],
                          [
                            0.7777777777777778,
                            "#fb9f3a"
                          ],
                          [
                            0.8888888888888888,
                            "#fdca26"
                          ],
                          [
                            1,
                            "#f0f921"
                          ]
                        ],
                        "type": "surface"
                      }
                    ],
                    "table": [
                      {
                        "cells": {
                          "fill": {
                            "color": "#EBF0F8"
                          },
                          "line": {
                            "color": "white"
                          }
                        },
                        "header": {
                          "fill": {
                            "color": "#C8D4E3"
                          },
                          "line": {
                            "color": "white"
                          }
                        },
                        "type": "table"
                      }
                    ]
                  },
                  "layout": {
                    "annotationdefaults": {
                      "arrowcolor": "#2a3f5f",
                      "arrowhead": 0,
                      "arrowwidth": 1
                    },
                    "autotypenumbers": "strict",
                    "coloraxis": {
                      "colorbar": {
                        "outlinewidth": 0,
                        "ticks": ""
                      }
                    },
                    "colorscale": {
                      "diverging": [
                        [
                          0,
                          "#8e0152"
                        ],
                        [
                          0.1,
                          "#c51b7d"
                        ],
                        [
                          0.2,
                          "#de77ae"
                        ],
                        [
                          0.3,
                          "#f1b6da"
                        ],
                        [
                          0.4,
                          "#fde0ef"
                        ],
                        [
                          0.5,
                          "#f7f7f7"
                        ],
                        [
                          0.6,
                          "#e6f5d0"
                        ],
                        [
                          0.7,
                          "#b8e186"
                        ],
                        [
                          0.8,
                          "#7fbc41"
                        ],
                        [
                          0.9,
                          "#4d9221"
                        ],
                        [
                          1,
                          "#276419"
                        ]
                      ],
                      "sequential": [
                        [
                          0,
                          "#0d0887"
                        ],
                        [
                          0.1111111111111111,
                          "#46039f"
                        ],
                        [
                          0.2222222222222222,
                          "#7201a8"
                        ],
                        [
                          0.3333333333333333,
                          "#9c179e"
                        ],
                        [
                          0.4444444444444444,
                          "#bd3786"
                        ],
                        [
                          0.5555555555555556,
                          "#d8576b"
                        ],
                        [
                          0.6666666666666666,
                          "#ed7953"
                        ],
                        [
                          0.7777777777777778,
                          "#fb9f3a"
                        ],
                        [
                          0.8888888888888888,
                          "#fdca26"
                        ],
                        [
                          1,
                          "#f0f921"
                        ]
                      ],
                      "sequentialminus": [
                        [
                          0,
                          "#0d0887"
                        ],
                        [
                          0.1111111111111111,
                          "#46039f"
                        ],
                        [
                          0.2222222222222222,
                          "#7201a8"
                        ],
                        [
                          0.3333333333333333,
                          "#9c179e"
                        ],
                        [
                          0.4444444444444444,
                          "#bd3786"
                        ],
                        [
                          0.5555555555555556,
                          "#d8576b"
                        ],
                        [
                          0.6666666666666666,
                          "#ed7953"
                        ],
                        [
                          0.7777777777777778,
                          "#fb9f3a"
                        ],
                        [
                          0.8888888888888888,
                          "#fdca26"
                        ],
                        [
                          1,
                          "#f0f921"
                        ]
                      ]
                    },
                    "colorway": [
                      "#636efa",
                      "#EF553B",
                      "#00cc96",
                      "#ab63fa",
                      "#FFA15A",
                      "#19d3f3",
                      "#FF6692",
                      "#B6E880",
                      "#FF97FF",
                      "#FECB52"
                    ],
                    "font": {
                      "color": "#2a3f5f"
                    },
                    "geo": {
                      "bgcolor": "white",
                      "lakecolor": "white",
                      "landcolor": "#E5ECF6",
                      "showlakes": true,
                      "showland": true,
                      "subunitcolor": "white"
                    },
                    "hoverlabel": {
                      "align": "left"
                    },
                    "hovermode": "closest",
                    "mapbox": {
                      "style": "light"
                    },
                    "paper_bgcolor": "white",
                    "plot_bgcolor": "#E5ECF6",
                    "polar": {
                      "angularaxis": {
                        "gridcolor": "white",
                        "linecolor": "white",
                        "ticks": ""
                      },
                      "bgcolor": "#E5ECF6",
                      "radialaxis": {
                        "gridcolor": "white",
                        "linecolor": "white",
                        "ticks": ""
                      }
                    },
                    "scene": {
                      "xaxis": {
                        "backgroundcolor": "#E5ECF6",
                        "gridcolor": "white",
                        "gridwidth": 2,
                        "linecolor": "white",
                        "showbackground": true,
                        "ticks": "",
                        "zerolinecolor": "white"
                      },
                      "yaxis": {
                        "backgroundcolor": "#E5ECF6",
                        "gridcolor": "white",
                        "gridwidth": 2,
                        "linecolor": "white",
                        "showbackground": true,
                        "ticks": "",
                        "zerolinecolor": "white"
                      },
                      "zaxis": {
                        "backgroundcolor": "#E5ECF6",
                        "gridcolor": "white",
                        "gridwidth": 2,
                        "linecolor": "white",
                        "showbackground": true,
                        "ticks": "",
                        "zerolinecolor": "white"
                      }
                    },
                    "shapedefaults": {
                      "line": {
                        "color": "#2a3f5f"
                      }
                    },
                    "ternary": {
                      "aaxis": {
                        "gridcolor": "white",
                        "linecolor": "white",
                        "ticks": ""
                      },
                      "baxis": {
                        "gridcolor": "white",
                        "linecolor": "white",
                        "ticks": ""
                      },
                      "bgcolor": "#E5ECF6",
                      "caxis": {
                        "gridcolor": "white",
                        "linecolor": "white",
                        "ticks": ""
                      }
                    },
                    "title": {
                      "x": 0.05
                    },
                    "xaxis": {
                      "automargin": true,
                      "gridcolor": "white",
                      "linecolor": "white",
                      "ticks": "",
                      "title": {
                        "standoff": 15
                      },
                      "zerolinecolor": "white",
                      "zerolinewidth": 2
                    },
                    "yaxis": {
                      "automargin": true,
                      "gridcolor": "white",
                      "linecolor": "white",
                      "ticks": "",
                      "title": {
                        "standoff": 15
                      },
                      "zerolinecolor": "white",
                      "zerolinewidth": 2
                    }
                  }
                },
                "title": {
                  "text": "Number of Orders Over Time"
                },
                "xaxis": {
                  "anchor": "y",
                  "domain": [
                    0,
                    1
                  ],
                  "title": {
                    "text": "order_date"
                  }
                },
                "yaxis": {
                  "anchor": "x",
                  "domain": [
                    0,
                    1
                  ],
                  "title": {
                    "text": "Total Orders"
                  }
                }
              }
            }
          },
          "metadata": {},
          "output_type": "display_data"
        }
      ],
      "source": [
        "#Plot the number of orders over time and analyze trends.\n",
        "fig = px.line(orders_by_date, x='order_date', y='Total Orders', title='Number of Orders Over Time')\n",
        "fig.show()"
      ]
    },
    {
      "cell_type": "markdown",
      "metadata": {
        "id": "NI4NSWBKBFni"
      },
      "source": [
        "**Answer 2**"
      ]
    },
    {
      "cell_type": "code",
      "execution_count": 35,
      "metadata": {
        "colab": {
          "base_uri": "https://localhost:8080/",
          "height": 542
        },
        "id": "9oI5zcoXBIsa",
        "outputId": "4a840632-3f0d-47b2-c153-0ee419b795fc"
      },
      "outputs": [
        {
          "data": {
            "application/vnd.plotly.v1+json": {
              "config": {
                "plotlyServerURL": "https://plot.ly"
              },
              "data": [
                {
                  "domain": {
                    "x": [
                      0,
                      1
                    ],
                    "y": [
                      0,
                      1
                    ]
                  },
                  "hovertemplate": "payment_method=%{label}<br>Total Orders=%{value}<extra></extra>",
                  "labels": [
                    "Debit Card",
                    "PayPal",
                    "COD",
                    "Credit Card"
                  ],
                  "legendgroup": "",
                  "name": "",
                  "showlegend": true,
                  "type": "pie",
                  "values": [
                    55,
                    50,
                    50,
                    45
                  ]
                }
              ],
              "layout": {
                "legend": {
                  "tracegroupgap": 0
                },
                "template": {
                  "data": {
                    "bar": [
                      {
                        "error_x": {
                          "color": "#2a3f5f"
                        },
                        "error_y": {
                          "color": "#2a3f5f"
                        },
                        "marker": {
                          "line": {
                            "color": "#E5ECF6",
                            "width": 0.5
                          },
                          "pattern": {
                            "fillmode": "overlay",
                            "size": 10,
                            "solidity": 0.2
                          }
                        },
                        "type": "bar"
                      }
                    ],
                    "barpolar": [
                      {
                        "marker": {
                          "line": {
                            "color": "#E5ECF6",
                            "width": 0.5
                          },
                          "pattern": {
                            "fillmode": "overlay",
                            "size": 10,
                            "solidity": 0.2
                          }
                        },
                        "type": "barpolar"
                      }
                    ],
                    "carpet": [
                      {
                        "aaxis": {
                          "endlinecolor": "#2a3f5f",
                          "gridcolor": "white",
                          "linecolor": "white",
                          "minorgridcolor": "white",
                          "startlinecolor": "#2a3f5f"
                        },
                        "baxis": {
                          "endlinecolor": "#2a3f5f",
                          "gridcolor": "white",
                          "linecolor": "white",
                          "minorgridcolor": "white",
                          "startlinecolor": "#2a3f5f"
                        },
                        "type": "carpet"
                      }
                    ],
                    "choropleth": [
                      {
                        "colorbar": {
                          "outlinewidth": 0,
                          "ticks": ""
                        },
                        "type": "choropleth"
                      }
                    ],
                    "contour": [
                      {
                        "colorbar": {
                          "outlinewidth": 0,
                          "ticks": ""
                        },
                        "colorscale": [
                          [
                            0,
                            "#0d0887"
                          ],
                          [
                            0.1111111111111111,
                            "#46039f"
                          ],
                          [
                            0.2222222222222222,
                            "#7201a8"
                          ],
                          [
                            0.3333333333333333,
                            "#9c179e"
                          ],
                          [
                            0.4444444444444444,
                            "#bd3786"
                          ],
                          [
                            0.5555555555555556,
                            "#d8576b"
                          ],
                          [
                            0.6666666666666666,
                            "#ed7953"
                          ],
                          [
                            0.7777777777777778,
                            "#fb9f3a"
                          ],
                          [
                            0.8888888888888888,
                            "#fdca26"
                          ],
                          [
                            1,
                            "#f0f921"
                          ]
                        ],
                        "type": "contour"
                      }
                    ],
                    "contourcarpet": [
                      {
                        "colorbar": {
                          "outlinewidth": 0,
                          "ticks": ""
                        },
                        "type": "contourcarpet"
                      }
                    ],
                    "heatmap": [
                      {
                        "colorbar": {
                          "outlinewidth": 0,
                          "ticks": ""
                        },
                        "colorscale": [
                          [
                            0,
                            "#0d0887"
                          ],
                          [
                            0.1111111111111111,
                            "#46039f"
                          ],
                          [
                            0.2222222222222222,
                            "#7201a8"
                          ],
                          [
                            0.3333333333333333,
                            "#9c179e"
                          ],
                          [
                            0.4444444444444444,
                            "#bd3786"
                          ],
                          [
                            0.5555555555555556,
                            "#d8576b"
                          ],
                          [
                            0.6666666666666666,
                            "#ed7953"
                          ],
                          [
                            0.7777777777777778,
                            "#fb9f3a"
                          ],
                          [
                            0.8888888888888888,
                            "#fdca26"
                          ],
                          [
                            1,
                            "#f0f921"
                          ]
                        ],
                        "type": "heatmap"
                      }
                    ],
                    "heatmapgl": [
                      {
                        "colorbar": {
                          "outlinewidth": 0,
                          "ticks": ""
                        },
                        "colorscale": [
                          [
                            0,
                            "#0d0887"
                          ],
                          [
                            0.1111111111111111,
                            "#46039f"
                          ],
                          [
                            0.2222222222222222,
                            "#7201a8"
                          ],
                          [
                            0.3333333333333333,
                            "#9c179e"
                          ],
                          [
                            0.4444444444444444,
                            "#bd3786"
                          ],
                          [
                            0.5555555555555556,
                            "#d8576b"
                          ],
                          [
                            0.6666666666666666,
                            "#ed7953"
                          ],
                          [
                            0.7777777777777778,
                            "#fb9f3a"
                          ],
                          [
                            0.8888888888888888,
                            "#fdca26"
                          ],
                          [
                            1,
                            "#f0f921"
                          ]
                        ],
                        "type": "heatmapgl"
                      }
                    ],
                    "histogram": [
                      {
                        "marker": {
                          "pattern": {
                            "fillmode": "overlay",
                            "size": 10,
                            "solidity": 0.2
                          }
                        },
                        "type": "histogram"
                      }
                    ],
                    "histogram2d": [
                      {
                        "colorbar": {
                          "outlinewidth": 0,
                          "ticks": ""
                        },
                        "colorscale": [
                          [
                            0,
                            "#0d0887"
                          ],
                          [
                            0.1111111111111111,
                            "#46039f"
                          ],
                          [
                            0.2222222222222222,
                            "#7201a8"
                          ],
                          [
                            0.3333333333333333,
                            "#9c179e"
                          ],
                          [
                            0.4444444444444444,
                            "#bd3786"
                          ],
                          [
                            0.5555555555555556,
                            "#d8576b"
                          ],
                          [
                            0.6666666666666666,
                            "#ed7953"
                          ],
                          [
                            0.7777777777777778,
                            "#fb9f3a"
                          ],
                          [
                            0.8888888888888888,
                            "#fdca26"
                          ],
                          [
                            1,
                            "#f0f921"
                          ]
                        ],
                        "type": "histogram2d"
                      }
                    ],
                    "histogram2dcontour": [
                      {
                        "colorbar": {
                          "outlinewidth": 0,
                          "ticks": ""
                        },
                        "colorscale": [
                          [
                            0,
                            "#0d0887"
                          ],
                          [
                            0.1111111111111111,
                            "#46039f"
                          ],
                          [
                            0.2222222222222222,
                            "#7201a8"
                          ],
                          [
                            0.3333333333333333,
                            "#9c179e"
                          ],
                          [
                            0.4444444444444444,
                            "#bd3786"
                          ],
                          [
                            0.5555555555555556,
                            "#d8576b"
                          ],
                          [
                            0.6666666666666666,
                            "#ed7953"
                          ],
                          [
                            0.7777777777777778,
                            "#fb9f3a"
                          ],
                          [
                            0.8888888888888888,
                            "#fdca26"
                          ],
                          [
                            1,
                            "#f0f921"
                          ]
                        ],
                        "type": "histogram2dcontour"
                      }
                    ],
                    "mesh3d": [
                      {
                        "colorbar": {
                          "outlinewidth": 0,
                          "ticks": ""
                        },
                        "type": "mesh3d"
                      }
                    ],
                    "parcoords": [
                      {
                        "line": {
                          "colorbar": {
                            "outlinewidth": 0,
                            "ticks": ""
                          }
                        },
                        "type": "parcoords"
                      }
                    ],
                    "pie": [
                      {
                        "automargin": true,
                        "type": "pie"
                      }
                    ],
                    "scatter": [
                      {
                        "fillpattern": {
                          "fillmode": "overlay",
                          "size": 10,
                          "solidity": 0.2
                        },
                        "type": "scatter"
                      }
                    ],
                    "scatter3d": [
                      {
                        "line": {
                          "colorbar": {
                            "outlinewidth": 0,
                            "ticks": ""
                          }
                        },
                        "marker": {
                          "colorbar": {
                            "outlinewidth": 0,
                            "ticks": ""
                          }
                        },
                        "type": "scatter3d"
                      }
                    ],
                    "scattercarpet": [
                      {
                        "marker": {
                          "colorbar": {
                            "outlinewidth": 0,
                            "ticks": ""
                          }
                        },
                        "type": "scattercarpet"
                      }
                    ],
                    "scattergeo": [
                      {
                        "marker": {
                          "colorbar": {
                            "outlinewidth": 0,
                            "ticks": ""
                          }
                        },
                        "type": "scattergeo"
                      }
                    ],
                    "scattergl": [
                      {
                        "marker": {
                          "colorbar": {
                            "outlinewidth": 0,
                            "ticks": ""
                          }
                        },
                        "type": "scattergl"
                      }
                    ],
                    "scattermapbox": [
                      {
                        "marker": {
                          "colorbar": {
                            "outlinewidth": 0,
                            "ticks": ""
                          }
                        },
                        "type": "scattermapbox"
                      }
                    ],
                    "scatterpolar": [
                      {
                        "marker": {
                          "colorbar": {
                            "outlinewidth": 0,
                            "ticks": ""
                          }
                        },
                        "type": "scatterpolar"
                      }
                    ],
                    "scatterpolargl": [
                      {
                        "marker": {
                          "colorbar": {
                            "outlinewidth": 0,
                            "ticks": ""
                          }
                        },
                        "type": "scatterpolargl"
                      }
                    ],
                    "scatterternary": [
                      {
                        "marker": {
                          "colorbar": {
                            "outlinewidth": 0,
                            "ticks": ""
                          }
                        },
                        "type": "scatterternary"
                      }
                    ],
                    "surface": [
                      {
                        "colorbar": {
                          "outlinewidth": 0,
                          "ticks": ""
                        },
                        "colorscale": [
                          [
                            0,
                            "#0d0887"
                          ],
                          [
                            0.1111111111111111,
                            "#46039f"
                          ],
                          [
                            0.2222222222222222,
                            "#7201a8"
                          ],
                          [
                            0.3333333333333333,
                            "#9c179e"
                          ],
                          [
                            0.4444444444444444,
                            "#bd3786"
                          ],
                          [
                            0.5555555555555556,
                            "#d8576b"
                          ],
                          [
                            0.6666666666666666,
                            "#ed7953"
                          ],
                          [
                            0.7777777777777778,
                            "#fb9f3a"
                          ],
                          [
                            0.8888888888888888,
                            "#fdca26"
                          ],
                          [
                            1,
                            "#f0f921"
                          ]
                        ],
                        "type": "surface"
                      }
                    ],
                    "table": [
                      {
                        "cells": {
                          "fill": {
                            "color": "#EBF0F8"
                          },
                          "line": {
                            "color": "white"
                          }
                        },
                        "header": {
                          "fill": {
                            "color": "#C8D4E3"
                          },
                          "line": {
                            "color": "white"
                          }
                        },
                        "type": "table"
                      }
                    ]
                  },
                  "layout": {
                    "annotationdefaults": {
                      "arrowcolor": "#2a3f5f",
                      "arrowhead": 0,
                      "arrowwidth": 1
                    },
                    "autotypenumbers": "strict",
                    "coloraxis": {
                      "colorbar": {
                        "outlinewidth": 0,
                        "ticks": ""
                      }
                    },
                    "colorscale": {
                      "diverging": [
                        [
                          0,
                          "#8e0152"
                        ],
                        [
                          0.1,
                          "#c51b7d"
                        ],
                        [
                          0.2,
                          "#de77ae"
                        ],
                        [
                          0.3,
                          "#f1b6da"
                        ],
                        [
                          0.4,
                          "#fde0ef"
                        ],
                        [
                          0.5,
                          "#f7f7f7"
                        ],
                        [
                          0.6,
                          "#e6f5d0"
                        ],
                        [
                          0.7,
                          "#b8e186"
                        ],
                        [
                          0.8,
                          "#7fbc41"
                        ],
                        [
                          0.9,
                          "#4d9221"
                        ],
                        [
                          1,
                          "#276419"
                        ]
                      ],
                      "sequential": [
                        [
                          0,
                          "#0d0887"
                        ],
                        [
                          0.1111111111111111,
                          "#46039f"
                        ],
                        [
                          0.2222222222222222,
                          "#7201a8"
                        ],
                        [
                          0.3333333333333333,
                          "#9c179e"
                        ],
                        [
                          0.4444444444444444,
                          "#bd3786"
                        ],
                        [
                          0.5555555555555556,
                          "#d8576b"
                        ],
                        [
                          0.6666666666666666,
                          "#ed7953"
                        ],
                        [
                          0.7777777777777778,
                          "#fb9f3a"
                        ],
                        [
                          0.8888888888888888,
                          "#fdca26"
                        ],
                        [
                          1,
                          "#f0f921"
                        ]
                      ],
                      "sequentialminus": [
                        [
                          0,
                          "#0d0887"
                        ],
                        [
                          0.1111111111111111,
                          "#46039f"
                        ],
                        [
                          0.2222222222222222,
                          "#7201a8"
                        ],
                        [
                          0.3333333333333333,
                          "#9c179e"
                        ],
                        [
                          0.4444444444444444,
                          "#bd3786"
                        ],
                        [
                          0.5555555555555556,
                          "#d8576b"
                        ],
                        [
                          0.6666666666666666,
                          "#ed7953"
                        ],
                        [
                          0.7777777777777778,
                          "#fb9f3a"
                        ],
                        [
                          0.8888888888888888,
                          "#fdca26"
                        ],
                        [
                          1,
                          "#f0f921"
                        ]
                      ]
                    },
                    "colorway": [
                      "#636efa",
                      "#EF553B",
                      "#00cc96",
                      "#ab63fa",
                      "#FFA15A",
                      "#19d3f3",
                      "#FF6692",
                      "#B6E880",
                      "#FF97FF",
                      "#FECB52"
                    ],
                    "font": {
                      "color": "#2a3f5f"
                    },
                    "geo": {
                      "bgcolor": "white",
                      "lakecolor": "white",
                      "landcolor": "#E5ECF6",
                      "showlakes": true,
                      "showland": true,
                      "subunitcolor": "white"
                    },
                    "hoverlabel": {
                      "align": "left"
                    },
                    "hovermode": "closest",
                    "mapbox": {
                      "style": "light"
                    },
                    "paper_bgcolor": "white",
                    "plot_bgcolor": "#E5ECF6",
                    "polar": {
                      "angularaxis": {
                        "gridcolor": "white",
                        "linecolor": "white",
                        "ticks": ""
                      },
                      "bgcolor": "#E5ECF6",
                      "radialaxis": {
                        "gridcolor": "white",
                        "linecolor": "white",
                        "ticks": ""
                      }
                    },
                    "scene": {
                      "xaxis": {
                        "backgroundcolor": "#E5ECF6",
                        "gridcolor": "white",
                        "gridwidth": 2,
                        "linecolor": "white",
                        "showbackground": true,
                        "ticks": "",
                        "zerolinecolor": "white"
                      },
                      "yaxis": {
                        "backgroundcolor": "#E5ECF6",
                        "gridcolor": "white",
                        "gridwidth": 2,
                        "linecolor": "white",
                        "showbackground": true,
                        "ticks": "",
                        "zerolinecolor": "white"
                      },
                      "zaxis": {
                        "backgroundcolor": "#E5ECF6",
                        "gridcolor": "white",
                        "gridwidth": 2,
                        "linecolor": "white",
                        "showbackground": true,
                        "ticks": "",
                        "zerolinecolor": "white"
                      }
                    },
                    "shapedefaults": {
                      "line": {
                        "color": "#2a3f5f"
                      }
                    },
                    "ternary": {
                      "aaxis": {
                        "gridcolor": "white",
                        "linecolor": "white",
                        "ticks": ""
                      },
                      "baxis": {
                        "gridcolor": "white",
                        "linecolor": "white",
                        "ticks": ""
                      },
                      "bgcolor": "#E5ECF6",
                      "caxis": {
                        "gridcolor": "white",
                        "linecolor": "white",
                        "ticks": ""
                      }
                    },
                    "title": {
                      "x": 0.05
                    },
                    "xaxis": {
                      "automargin": true,
                      "gridcolor": "white",
                      "linecolor": "white",
                      "ticks": "",
                      "title": {
                        "standoff": 15
                      },
                      "zerolinecolor": "white",
                      "zerolinewidth": 2
                    },
                    "yaxis": {
                      "automargin": true,
                      "gridcolor": "white",
                      "linecolor": "white",
                      "ticks": "",
                      "title": {
                        "standoff": 15
                      },
                      "zerolinecolor": "white",
                      "zerolinewidth": 2
                    }
                  }
                },
                "title": {
                  "text": "Payment Method Distribution"
                }
              }
            }
          },
          "metadata": {},
          "output_type": "display_data"
        }
      ],
      "source": [
        "#Create a pie chart to show the distribution of payment methods.\n",
        "payment_method_distribution=orders_customers_products['payment_method'].value_counts().reset_index(name='Total Orders')\n",
        "fig = px.pie(payment_method_distribution, names='payment_method', values='Total Orders', title='Payment Method Distribution')\n",
        "fig.show()"
      ]
    },
    {
      "cell_type": "markdown",
      "metadata": {
        "id": "Yfw3-kZKBtFZ"
      },
      "source": [
        "**Answer 3**"
      ]
    },
    {
      "cell_type": "code",
      "execution_count": 36,
      "metadata": {
        "id": "AVhRUjlWBwJ5"
      },
      "outputs": [],
      "source": [
        "#Aggregate data to find the top 5 products by sales quantity.\n",
        "top_5_products=orders_customers_products.groupby('product_name')['quantity'].sum().reset_index(name='Total Quantity').nlargest(5,'Total Quantity')"
      ]
    },
    {
      "cell_type": "code",
      "execution_count": 37,
      "metadata": {
        "colab": {
          "base_uri": "https://localhost:8080/",
          "height": 206
        },
        "id": "7mbVbnvEB7rg",
        "outputId": "8e1a74bb-ff95-4f2f-a901-97e99c85ca6c"
      },
      "outputs": [
        {
          "data": {
            "text/html": [
              "<div>\n",
              "<style scoped>\n",
              "    .dataframe tbody tr th:only-of-type {\n",
              "        vertical-align: middle;\n",
              "    }\n",
              "\n",
              "    .dataframe tbody tr th {\n",
              "        vertical-align: top;\n",
              "    }\n",
              "\n",
              "    .dataframe thead th {\n",
              "        text-align: right;\n",
              "    }\n",
              "</style>\n",
              "<table border=\"1\" class=\"dataframe\">\n",
              "  <thead>\n",
              "    <tr style=\"text-align: right;\">\n",
              "      <th></th>\n",
              "      <th>product_name</th>\n",
              "      <th>Total Quantity</th>\n",
              "    </tr>\n",
              "  </thead>\n",
              "  <tbody>\n",
              "    <tr>\n",
              "      <th>1</th>\n",
              "      <td>Product_10</td>\n",
              "      <td>29</td>\n",
              "    </tr>\n",
              "    <tr>\n",
              "      <th>6</th>\n",
              "      <td>Product_15</td>\n",
              "      <td>18</td>\n",
              "    </tr>\n",
              "    <tr>\n",
              "      <th>43</th>\n",
              "      <td>Product_6</td>\n",
              "      <td>17</td>\n",
              "    </tr>\n",
              "    <tr>\n",
              "      <th>15</th>\n",
              "      <td>Product_26</td>\n",
              "      <td>16</td>\n",
              "    </tr>\n",
              "    <tr>\n",
              "      <th>19</th>\n",
              "      <td>Product_3</td>\n",
              "      <td>16</td>\n",
              "    </tr>\n",
              "  </tbody>\n",
              "</table>\n",
              "</div>"
            ],
            "text/plain": [
              "   product_name  Total Quantity\n",
              "1    Product_10              29\n",
              "6    Product_15              18\n",
              "43    Product_6              17\n",
              "15   Product_26              16\n",
              "19    Product_3              16"
            ]
          },
          "execution_count": 37,
          "metadata": {},
          "output_type": "execute_result"
        }
      ],
      "source": [
        "top_5_products"
      ]
    },
    {
      "cell_type": "markdown",
      "metadata": {
        "id": "rWWePA-eCFmx"
      },
      "source": [
        "**Answer 4**"
      ]
    },
    {
      "cell_type": "code",
      "execution_count": 38,
      "metadata": {
        "colab": {
          "base_uri": "https://localhost:8080/",
          "height": 542
        },
        "id": "imcrxCr_CI45",
        "outputId": "fb46bd80-aabd-4524-a157-ade5f72d7330"
      },
      "outputs": [
        {
          "data": {
            "application/vnd.plotly.v1+json": {
              "config": {
                "plotlyServerURL": "https://plot.ly"
              },
              "data": [
                {
                  "hovertemplate": "category=Books<br>order_date=%{x}<br>Total Revenue=%{y}<extra></extra>",
                  "legendgroup": "Books",
                  "line": {
                    "color": "#636efa",
                    "dash": "solid"
                  },
                  "marker": {
                    "symbol": "circle"
                  },
                  "mode": "lines",
                  "name": "Books",
                  "orientation": "v",
                  "showlegend": true,
                  "type": "scatter",
                  "x": [
                    "2023-01-02T00:00:00",
                    "2023-01-05T00:00:00",
                    "2023-01-07T00:00:00",
                    "2023-01-12T00:00:00",
                    "2023-01-16T00:00:00",
                    "2023-01-20T00:00:00",
                    "2023-02-12T00:00:00",
                    "2023-02-13T00:00:00",
                    "2023-02-19T00:00:00",
                    "2023-02-24T00:00:00",
                    "2023-03-02T00:00:00",
                    "2023-03-03T00:00:00",
                    "2023-03-07T00:00:00",
                    "2023-04-06T00:00:00",
                    "2023-04-15T00:00:00",
                    "2023-04-25T00:00:00",
                    "2023-05-04T00:00:00",
                    "2023-05-16T00:00:00",
                    "2023-05-28T00:00:00",
                    "2023-05-30T00:00:00",
                    "2023-07-02T00:00:00",
                    "2023-07-15T00:00:00",
                    "2023-07-26T00:00:00",
                    "2023-08-06T00:00:00",
                    "2023-08-09T00:00:00",
                    "2023-08-12T00:00:00",
                    "2023-08-16T00:00:00",
                    "2023-08-18T00:00:00",
                    "2023-09-08T00:00:00",
                    "2023-09-11T00:00:00",
                    "2023-09-13T00:00:00",
                    "2023-10-02T00:00:00",
                    "2023-10-05T00:00:00",
                    "2023-10-12T00:00:00",
                    "2023-10-17T00:00:00",
                    "2023-10-25T00:00:00",
                    "2023-10-26T00:00:00",
                    "2023-11-03T00:00:00",
                    "2023-11-09T00:00:00",
                    "2023-11-22T00:00:00",
                    "2023-12-04T00:00:00",
                    "2023-12-17T00:00:00",
                    "2023-12-24T00:00:00",
                    "2023-12-25T00:00:00",
                    "2025-01-01T00:00:00"
                  ],
                  "xaxis": "x",
                  "y": [
                    0,
                    0,
                    0,
                    0,
                    0,
                    0,
                    238.56,
                    0,
                    0,
                    0,
                    0,
                    0,
                    704.76,
                    0,
                    234.92,
                    0,
                    170.94,
                    163.29,
                    0,
                    0,
                    0,
                    0,
                    0,
                    0,
                    0,
                    0,
                    0,
                    0,
                    0,
                    553.6500000000001,
                    0,
                    0,
                    0,
                    0,
                    234.92,
                    0,
                    0,
                    0,
                    0,
                    0,
                    64.69,
                    0,
                    0,
                    0,
                    0
                  ],
                  "yaxis": "y"
                },
                {
                  "hovertemplate": "category=Home Appliances<br>order_date=%{x}<br>Total Revenue=%{y}<extra></extra>",
                  "legendgroup": "Home Appliances",
                  "line": {
                    "color": "#EF553B",
                    "dash": "solid"
                  },
                  "marker": {
                    "symbol": "circle"
                  },
                  "mode": "lines",
                  "name": "Home Appliances",
                  "orientation": "v",
                  "showlegend": true,
                  "type": "scatter",
                  "x": [
                    "2023-01-05T00:00:00",
                    "2023-01-17T00:00:00",
                    "2023-01-20T00:00:00",
                    "2023-02-03T00:00:00",
                    "2023-02-09T00:00:00",
                    "2023-02-11T00:00:00",
                    "2023-02-15T00:00:00",
                    "2023-03-03T00:00:00",
                    "2023-03-12T00:00:00",
                    "2023-03-21T00:00:00",
                    "2023-03-28T00:00:00",
                    "2023-04-01T00:00:00",
                    "2023-04-04T00:00:00",
                    "2023-04-30T00:00:00",
                    "2023-05-04T00:00:00",
                    "2023-05-07T00:00:00",
                    "2023-05-09T00:00:00",
                    "2023-05-10T00:00:00",
                    "2023-05-19T00:00:00",
                    "2023-05-27T00:00:00",
                    "2023-06-08T00:00:00",
                    "2023-06-10T00:00:00",
                    "2023-06-17T00:00:00",
                    "2023-06-24T00:00:00",
                    "2023-07-02T00:00:00",
                    "2023-07-15T00:00:00",
                    "2023-07-21T00:00:00",
                    "2023-07-22T00:00:00",
                    "2023-07-25T00:00:00",
                    "2023-08-02T00:00:00",
                    "2023-08-03T00:00:00",
                    "2023-08-09T00:00:00",
                    "2023-08-18T00:00:00",
                    "2023-08-24T00:00:00",
                    "2023-08-25T00:00:00",
                    "2023-09-18T00:00:00",
                    "2023-09-19T00:00:00",
                    "2023-09-29T00:00:00",
                    "2023-10-05T00:00:00",
                    "2023-10-07T00:00:00",
                    "2023-10-10T00:00:00",
                    "2023-10-28T00:00:00",
                    "2023-11-06T00:00:00",
                    "2023-11-16T00:00:00",
                    "2023-11-17T00:00:00",
                    "2023-11-27T00:00:00",
                    "2023-12-02T00:00:00",
                    "2023-12-06T00:00:00",
                    "2023-12-17T00:00:00",
                    "2023-12-20T00:00:00",
                    "2023-12-23T00:00:00",
                    "2023-12-28T00:00:00",
                    "2024-01-01T00:00:00",
                    "2025-01-01T00:00:00"
                  ],
                  "xaxis": "x",
                  "y": [
                    108.8,
                    0,
                    0,
                    0,
                    0,
                    70.61,
                    0,
                    0,
                    0,
                    346.4,
                    1373.5500000000002,
                    0,
                    359.4,
                    0,
                    0,
                    0,
                    0,
                    0,
                    1936.28,
                    0,
                    1856.08,
                    0,
                    187.24,
                    138.88,
                    0,
                    0,
                    0,
                    0,
                    0,
                    0,
                    0,
                    0,
                    0,
                    346.4,
                    0,
                    0,
                    0,
                    0,
                    173.2,
                    0,
                    533.0799999999999,
                    0,
                    0,
                    1439.52,
                    0,
                    179.7,
                    0,
                    1373.5500000000002,
                    1387.8000000000002,
                    70.61,
                    0,
                    0,
                    0,
                    0
                  ],
                  "yaxis": "y"
                },
                {
                  "hovertemplate": "category=Clothing<br>order_date=%{x}<br>Total Revenue=%{y}<extra></extra>",
                  "legendgroup": "Clothing",
                  "line": {
                    "color": "#00cc96",
                    "dash": "solid"
                  },
                  "marker": {
                    "symbol": "circle"
                  },
                  "mode": "lines",
                  "name": "Clothing",
                  "orientation": "v",
                  "showlegend": true,
                  "type": "scatter",
                  "x": [
                    "2023-01-06T00:00:00",
                    "2023-01-18T00:00:00",
                    "2023-01-27T00:00:00",
                    "2023-02-19T00:00:00",
                    "2023-02-20T00:00:00",
                    "2023-03-04T00:00:00",
                    "2023-03-12T00:00:00",
                    "2023-03-14T00:00:00",
                    "2023-03-21T00:00:00",
                    "2023-04-30T00:00:00",
                    "2023-05-04T00:00:00",
                    "2023-05-14T00:00:00",
                    "2023-05-25T00:00:00",
                    "2023-05-28T00:00:00",
                    "2023-06-02T00:00:00",
                    "2023-06-15T00:00:00",
                    "2023-06-17T00:00:00",
                    "2023-06-27T00:00:00",
                    "2023-06-29T00:00:00",
                    "2023-07-06T00:00:00",
                    "2023-08-03T00:00:00",
                    "2023-08-05T00:00:00",
                    "2023-08-07T00:00:00",
                    "2023-08-12T00:00:00",
                    "2023-08-14T00:00:00",
                    "2023-08-25T00:00:00",
                    "2023-08-31T00:00:00",
                    "2023-09-03T00:00:00",
                    "2023-10-02T00:00:00",
                    "2023-10-05T00:00:00",
                    "2023-10-08T00:00:00",
                    "2023-10-09T00:00:00",
                    "2023-10-15T00:00:00",
                    "2023-10-19T00:00:00",
                    "2023-10-22T00:00:00",
                    "2023-10-27T00:00:00",
                    "2023-10-29T00:00:00",
                    "2023-11-09T00:00:00",
                    "2023-11-10T00:00:00",
                    "2023-11-12T00:00:00",
                    "2023-11-16T00:00:00",
                    "2023-11-22T00:00:00",
                    "2023-12-04T00:00:00",
                    "2023-12-12T00:00:00",
                    "2023-12-19T00:00:00",
                    "2024-01-01T00:00:00"
                  ],
                  "xaxis": "x",
                  "y": [
                    946.3799999999999,
                    298.38,
                    0,
                    0,
                    0,
                    0,
                    0,
                    0,
                    0,
                    32.1,
                    0,
                    0,
                    0,
                    0,
                    0,
                    0,
                    0,
                    0,
                    0,
                    0,
                    0,
                    0,
                    220.47,
                    0,
                    343.44,
                    0,
                    0,
                    0,
                    0,
                    0,
                    0,
                    0,
                    0,
                    0,
                    223.15,
                    0,
                    661.41,
                    0,
                    0,
                    0,
                    0,
                    0,
                    0,
                    0,
                    0,
                    0
                  ],
                  "yaxis": "y"
                },
                {
                  "hovertemplate": "category=Electronics<br>order_date=%{x}<br>Total Revenue=%{y}<extra></extra>",
                  "legendgroup": "Electronics",
                  "line": {
                    "color": "#ab63fa",
                    "dash": "solid"
                  },
                  "marker": {
                    "symbol": "circle"
                  },
                  "mode": "lines",
                  "name": "Electronics",
                  "orientation": "v",
                  "showlegend": true,
                  "type": "scatter",
                  "x": [
                    "2023-01-08T00:00:00",
                    "2023-02-22T00:00:00",
                    "2023-03-06T00:00:00",
                    "2023-03-20T00:00:00",
                    "2023-03-21T00:00:00",
                    "2023-03-29T00:00:00",
                    "2023-04-04T00:00:00",
                    "2023-04-10T00:00:00",
                    "2023-04-11T00:00:00",
                    "2023-04-25T00:00:00",
                    "2023-05-14T00:00:00",
                    "2023-05-17T00:00:00",
                    "2023-05-25T00:00:00",
                    "2023-05-27T00:00:00",
                    "2023-06-20T00:00:00",
                    "2023-06-22T00:00:00",
                    "2023-07-08T00:00:00",
                    "2023-07-09T00:00:00",
                    "2023-07-11T00:00:00",
                    "2023-08-25T00:00:00",
                    "2023-09-07T00:00:00",
                    "2023-09-12T00:00:00",
                    "2023-09-15T00:00:00",
                    "2023-10-18T00:00:00",
                    "2023-11-02T00:00:00",
                    "2023-11-16T00:00:00",
                    "2023-11-30T00:00:00",
                    "2023-12-01T00:00:00",
                    "2023-12-11T00:00:00",
                    "2023-12-20T00:00:00",
                    "2023-12-28T00:00:00",
                    "2025-01-01T00:00:00"
                  ],
                  "xaxis": "x",
                  "y": [
                    338.1,
                    0,
                    0,
                    0,
                    0,
                    1014.3000000000001,
                    0,
                    658.16,
                    1239.06,
                    0,
                    676.2,
                    413.02,
                    0,
                    46.62,
                    0,
                    0,
                    0,
                    0,
                    0,
                    0,
                    0,
                    0,
                    413.02,
                    1352.4,
                    0,
                    0,
                    1239.06,
                    0,
                    0,
                    826.04,
                    0,
                    676.2
                  ],
                  "yaxis": "y"
                },
                {
                  "hovertemplate": "category=Pet Supply<br>order_date=%{x}<br>Total Revenue=%{y}<extra></extra>",
                  "legendgroup": "Pet Supply",
                  "line": {
                    "color": "#FFA15A",
                    "dash": "solid"
                  },
                  "marker": {
                    "symbol": "circle"
                  },
                  "mode": "lines",
                  "name": "Pet Supply",
                  "orientation": "v",
                  "showlegend": true,
                  "type": "scatter",
                  "x": [
                    "2023-03-15T00:00:00",
                    "2023-03-23T00:00:00",
                    "2023-08-22T00:00:00",
                    "2023-09-22T00:00:00",
                    "2023-12-08T00:00:00"
                  ],
                  "xaxis": "x",
                  "y": [
                    0,
                    0,
                    0,
                    0,
                    0
                  ],
                  "yaxis": "y"
                }
              ],
              "layout": {
                "legend": {
                  "title": {
                    "text": "category"
                  },
                  "tracegroupgap": 0
                },
                "template": {
                  "data": {
                    "bar": [
                      {
                        "error_x": {
                          "color": "#2a3f5f"
                        },
                        "error_y": {
                          "color": "#2a3f5f"
                        },
                        "marker": {
                          "line": {
                            "color": "#E5ECF6",
                            "width": 0.5
                          },
                          "pattern": {
                            "fillmode": "overlay",
                            "size": 10,
                            "solidity": 0.2
                          }
                        },
                        "type": "bar"
                      }
                    ],
                    "barpolar": [
                      {
                        "marker": {
                          "line": {
                            "color": "#E5ECF6",
                            "width": 0.5
                          },
                          "pattern": {
                            "fillmode": "overlay",
                            "size": 10,
                            "solidity": 0.2
                          }
                        },
                        "type": "barpolar"
                      }
                    ],
                    "carpet": [
                      {
                        "aaxis": {
                          "endlinecolor": "#2a3f5f",
                          "gridcolor": "white",
                          "linecolor": "white",
                          "minorgridcolor": "white",
                          "startlinecolor": "#2a3f5f"
                        },
                        "baxis": {
                          "endlinecolor": "#2a3f5f",
                          "gridcolor": "white",
                          "linecolor": "white",
                          "minorgridcolor": "white",
                          "startlinecolor": "#2a3f5f"
                        },
                        "type": "carpet"
                      }
                    ],
                    "choropleth": [
                      {
                        "colorbar": {
                          "outlinewidth": 0,
                          "ticks": ""
                        },
                        "type": "choropleth"
                      }
                    ],
                    "contour": [
                      {
                        "colorbar": {
                          "outlinewidth": 0,
                          "ticks": ""
                        },
                        "colorscale": [
                          [
                            0,
                            "#0d0887"
                          ],
                          [
                            0.1111111111111111,
                            "#46039f"
                          ],
                          [
                            0.2222222222222222,
                            "#7201a8"
                          ],
                          [
                            0.3333333333333333,
                            "#9c179e"
                          ],
                          [
                            0.4444444444444444,
                            "#bd3786"
                          ],
                          [
                            0.5555555555555556,
                            "#d8576b"
                          ],
                          [
                            0.6666666666666666,
                            "#ed7953"
                          ],
                          [
                            0.7777777777777778,
                            "#fb9f3a"
                          ],
                          [
                            0.8888888888888888,
                            "#fdca26"
                          ],
                          [
                            1,
                            "#f0f921"
                          ]
                        ],
                        "type": "contour"
                      }
                    ],
                    "contourcarpet": [
                      {
                        "colorbar": {
                          "outlinewidth": 0,
                          "ticks": ""
                        },
                        "type": "contourcarpet"
                      }
                    ],
                    "heatmap": [
                      {
                        "colorbar": {
                          "outlinewidth": 0,
                          "ticks": ""
                        },
                        "colorscale": [
                          [
                            0,
                            "#0d0887"
                          ],
                          [
                            0.1111111111111111,
                            "#46039f"
                          ],
                          [
                            0.2222222222222222,
                            "#7201a8"
                          ],
                          [
                            0.3333333333333333,
                            "#9c179e"
                          ],
                          [
                            0.4444444444444444,
                            "#bd3786"
                          ],
                          [
                            0.5555555555555556,
                            "#d8576b"
                          ],
                          [
                            0.6666666666666666,
                            "#ed7953"
                          ],
                          [
                            0.7777777777777778,
                            "#fb9f3a"
                          ],
                          [
                            0.8888888888888888,
                            "#fdca26"
                          ],
                          [
                            1,
                            "#f0f921"
                          ]
                        ],
                        "type": "heatmap"
                      }
                    ],
                    "heatmapgl": [
                      {
                        "colorbar": {
                          "outlinewidth": 0,
                          "ticks": ""
                        },
                        "colorscale": [
                          [
                            0,
                            "#0d0887"
                          ],
                          [
                            0.1111111111111111,
                            "#46039f"
                          ],
                          [
                            0.2222222222222222,
                            "#7201a8"
                          ],
                          [
                            0.3333333333333333,
                            "#9c179e"
                          ],
                          [
                            0.4444444444444444,
                            "#bd3786"
                          ],
                          [
                            0.5555555555555556,
                            "#d8576b"
                          ],
                          [
                            0.6666666666666666,
                            "#ed7953"
                          ],
                          [
                            0.7777777777777778,
                            "#fb9f3a"
                          ],
                          [
                            0.8888888888888888,
                            "#fdca26"
                          ],
                          [
                            1,
                            "#f0f921"
                          ]
                        ],
                        "type": "heatmapgl"
                      }
                    ],
                    "histogram": [
                      {
                        "marker": {
                          "pattern": {
                            "fillmode": "overlay",
                            "size": 10,
                            "solidity": 0.2
                          }
                        },
                        "type": "histogram"
                      }
                    ],
                    "histogram2d": [
                      {
                        "colorbar": {
                          "outlinewidth": 0,
                          "ticks": ""
                        },
                        "colorscale": [
                          [
                            0,
                            "#0d0887"
                          ],
                          [
                            0.1111111111111111,
                            "#46039f"
                          ],
                          [
                            0.2222222222222222,
                            "#7201a8"
                          ],
                          [
                            0.3333333333333333,
                            "#9c179e"
                          ],
                          [
                            0.4444444444444444,
                            "#bd3786"
                          ],
                          [
                            0.5555555555555556,
                            "#d8576b"
                          ],
                          [
                            0.6666666666666666,
                            "#ed7953"
                          ],
                          [
                            0.7777777777777778,
                            "#fb9f3a"
                          ],
                          [
                            0.8888888888888888,
                            "#fdca26"
                          ],
                          [
                            1,
                            "#f0f921"
                          ]
                        ],
                        "type": "histogram2d"
                      }
                    ],
                    "histogram2dcontour": [
                      {
                        "colorbar": {
                          "outlinewidth": 0,
                          "ticks": ""
                        },
                        "colorscale": [
                          [
                            0,
                            "#0d0887"
                          ],
                          [
                            0.1111111111111111,
                            "#46039f"
                          ],
                          [
                            0.2222222222222222,
                            "#7201a8"
                          ],
                          [
                            0.3333333333333333,
                            "#9c179e"
                          ],
                          [
                            0.4444444444444444,
                            "#bd3786"
                          ],
                          [
                            0.5555555555555556,
                            "#d8576b"
                          ],
                          [
                            0.6666666666666666,
                            "#ed7953"
                          ],
                          [
                            0.7777777777777778,
                            "#fb9f3a"
                          ],
                          [
                            0.8888888888888888,
                            "#fdca26"
                          ],
                          [
                            1,
                            "#f0f921"
                          ]
                        ],
                        "type": "histogram2dcontour"
                      }
                    ],
                    "mesh3d": [
                      {
                        "colorbar": {
                          "outlinewidth": 0,
                          "ticks": ""
                        },
                        "type": "mesh3d"
                      }
                    ],
                    "parcoords": [
                      {
                        "line": {
                          "colorbar": {
                            "outlinewidth": 0,
                            "ticks": ""
                          }
                        },
                        "type": "parcoords"
                      }
                    ],
                    "pie": [
                      {
                        "automargin": true,
                        "type": "pie"
                      }
                    ],
                    "scatter": [
                      {
                        "fillpattern": {
                          "fillmode": "overlay",
                          "size": 10,
                          "solidity": 0.2
                        },
                        "type": "scatter"
                      }
                    ],
                    "scatter3d": [
                      {
                        "line": {
                          "colorbar": {
                            "outlinewidth": 0,
                            "ticks": ""
                          }
                        },
                        "marker": {
                          "colorbar": {
                            "outlinewidth": 0,
                            "ticks": ""
                          }
                        },
                        "type": "scatter3d"
                      }
                    ],
                    "scattercarpet": [
                      {
                        "marker": {
                          "colorbar": {
                            "outlinewidth": 0,
                            "ticks": ""
                          }
                        },
                        "type": "scattercarpet"
                      }
                    ],
                    "scattergeo": [
                      {
                        "marker": {
                          "colorbar": {
                            "outlinewidth": 0,
                            "ticks": ""
                          }
                        },
                        "type": "scattergeo"
                      }
                    ],
                    "scattergl": [
                      {
                        "marker": {
                          "colorbar": {
                            "outlinewidth": 0,
                            "ticks": ""
                          }
                        },
                        "type": "scattergl"
                      }
                    ],
                    "scattermapbox": [
                      {
                        "marker": {
                          "colorbar": {
                            "outlinewidth": 0,
                            "ticks": ""
                          }
                        },
                        "type": "scattermapbox"
                      }
                    ],
                    "scatterpolar": [
                      {
                        "marker": {
                          "colorbar": {
                            "outlinewidth": 0,
                            "ticks": ""
                          }
                        },
                        "type": "scatterpolar"
                      }
                    ],
                    "scatterpolargl": [
                      {
                        "marker": {
                          "colorbar": {
                            "outlinewidth": 0,
                            "ticks": ""
                          }
                        },
                        "type": "scatterpolargl"
                      }
                    ],
                    "scatterternary": [
                      {
                        "marker": {
                          "colorbar": {
                            "outlinewidth": 0,
                            "ticks": ""
                          }
                        },
                        "type": "scatterternary"
                      }
                    ],
                    "surface": [
                      {
                        "colorbar": {
                          "outlinewidth": 0,
                          "ticks": ""
                        },
                        "colorscale": [
                          [
                            0,
                            "#0d0887"
                          ],
                          [
                            0.1111111111111111,
                            "#46039f"
                          ],
                          [
                            0.2222222222222222,
                            "#7201a8"
                          ],
                          [
                            0.3333333333333333,
                            "#9c179e"
                          ],
                          [
                            0.4444444444444444,
                            "#bd3786"
                          ],
                          [
                            0.5555555555555556,
                            "#d8576b"
                          ],
                          [
                            0.6666666666666666,
                            "#ed7953"
                          ],
                          [
                            0.7777777777777778,
                            "#fb9f3a"
                          ],
                          [
                            0.8888888888888888,
                            "#fdca26"
                          ],
                          [
                            1,
                            "#f0f921"
                          ]
                        ],
                        "type": "surface"
                      }
                    ],
                    "table": [
                      {
                        "cells": {
                          "fill": {
                            "color": "#EBF0F8"
                          },
                          "line": {
                            "color": "white"
                          }
                        },
                        "header": {
                          "fill": {
                            "color": "#C8D4E3"
                          },
                          "line": {
                            "color": "white"
                          }
                        },
                        "type": "table"
                      }
                    ]
                  },
                  "layout": {
                    "annotationdefaults": {
                      "arrowcolor": "#2a3f5f",
                      "arrowhead": 0,
                      "arrowwidth": 1
                    },
                    "autotypenumbers": "strict",
                    "coloraxis": {
                      "colorbar": {
                        "outlinewidth": 0,
                        "ticks": ""
                      }
                    },
                    "colorscale": {
                      "diverging": [
                        [
                          0,
                          "#8e0152"
                        ],
                        [
                          0.1,
                          "#c51b7d"
                        ],
                        [
                          0.2,
                          "#de77ae"
                        ],
                        [
                          0.3,
                          "#f1b6da"
                        ],
                        [
                          0.4,
                          "#fde0ef"
                        ],
                        [
                          0.5,
                          "#f7f7f7"
                        ],
                        [
                          0.6,
                          "#e6f5d0"
                        ],
                        [
                          0.7,
                          "#b8e186"
                        ],
                        [
                          0.8,
                          "#7fbc41"
                        ],
                        [
                          0.9,
                          "#4d9221"
                        ],
                        [
                          1,
                          "#276419"
                        ]
                      ],
                      "sequential": [
                        [
                          0,
                          "#0d0887"
                        ],
                        [
                          0.1111111111111111,
                          "#46039f"
                        ],
                        [
                          0.2222222222222222,
                          "#7201a8"
                        ],
                        [
                          0.3333333333333333,
                          "#9c179e"
                        ],
                        [
                          0.4444444444444444,
                          "#bd3786"
                        ],
                        [
                          0.5555555555555556,
                          "#d8576b"
                        ],
                        [
                          0.6666666666666666,
                          "#ed7953"
                        ],
                        [
                          0.7777777777777778,
                          "#fb9f3a"
                        ],
                        [
                          0.8888888888888888,
                          "#fdca26"
                        ],
                        [
                          1,
                          "#f0f921"
                        ]
                      ],
                      "sequentialminus": [
                        [
                          0,
                          "#0d0887"
                        ],
                        [
                          0.1111111111111111,
                          "#46039f"
                        ],
                        [
                          0.2222222222222222,
                          "#7201a8"
                        ],
                        [
                          0.3333333333333333,
                          "#9c179e"
                        ],
                        [
                          0.4444444444444444,
                          "#bd3786"
                        ],
                        [
                          0.5555555555555556,
                          "#d8576b"
                        ],
                        [
                          0.6666666666666666,
                          "#ed7953"
                        ],
                        [
                          0.7777777777777778,
                          "#fb9f3a"
                        ],
                        [
                          0.8888888888888888,
                          "#fdca26"
                        ],
                        [
                          1,
                          "#f0f921"
                        ]
                      ]
                    },
                    "colorway": [
                      "#636efa",
                      "#EF553B",
                      "#00cc96",
                      "#ab63fa",
                      "#FFA15A",
                      "#19d3f3",
                      "#FF6692",
                      "#B6E880",
                      "#FF97FF",
                      "#FECB52"
                    ],
                    "font": {
                      "color": "#2a3f5f"
                    },
                    "geo": {
                      "bgcolor": "white",
                      "lakecolor": "white",
                      "landcolor": "#E5ECF6",
                      "showlakes": true,
                      "showland": true,
                      "subunitcolor": "white"
                    },
                    "hoverlabel": {
                      "align": "left"
                    },
                    "hovermode": "closest",
                    "mapbox": {
                      "style": "light"
                    },
                    "paper_bgcolor": "white",
                    "plot_bgcolor": "#E5ECF6",
                    "polar": {
                      "angularaxis": {
                        "gridcolor": "white",
                        "linecolor": "white",
                        "ticks": ""
                      },
                      "bgcolor": "#E5ECF6",
                      "radialaxis": {
                        "gridcolor": "white",
                        "linecolor": "white",
                        "ticks": ""
                      }
                    },
                    "scene": {
                      "xaxis": {
                        "backgroundcolor": "#E5ECF6",
                        "gridcolor": "white",
                        "gridwidth": 2,
                        "linecolor": "white",
                        "showbackground": true,
                        "ticks": "",
                        "zerolinecolor": "white"
                      },
                      "yaxis": {
                        "backgroundcolor": "#E5ECF6",
                        "gridcolor": "white",
                        "gridwidth": 2,
                        "linecolor": "white",
                        "showbackground": true,
                        "ticks": "",
                        "zerolinecolor": "white"
                      },
                      "zaxis": {
                        "backgroundcolor": "#E5ECF6",
                        "gridcolor": "white",
                        "gridwidth": 2,
                        "linecolor": "white",
                        "showbackground": true,
                        "ticks": "",
                        "zerolinecolor": "white"
                      }
                    },
                    "shapedefaults": {
                      "line": {
                        "color": "#2a3f5f"
                      }
                    },
                    "ternary": {
                      "aaxis": {
                        "gridcolor": "white",
                        "linecolor": "white",
                        "ticks": ""
                      },
                      "baxis": {
                        "gridcolor": "white",
                        "linecolor": "white",
                        "ticks": ""
                      },
                      "bgcolor": "#E5ECF6",
                      "caxis": {
                        "gridcolor": "white",
                        "linecolor": "white",
                        "ticks": ""
                      }
                    },
                    "title": {
                      "x": 0.05
                    },
                    "xaxis": {
                      "automargin": true,
                      "gridcolor": "white",
                      "linecolor": "white",
                      "ticks": "",
                      "title": {
                        "standoff": 15
                      },
                      "zerolinecolor": "white",
                      "zerolinewidth": 2
                    },
                    "yaxis": {
                      "automargin": true,
                      "gridcolor": "white",
                      "linecolor": "white",
                      "ticks": "",
                      "title": {
                        "standoff": 15
                      },
                      "zerolinecolor": "white",
                      "zerolinewidth": 2
                    }
                  }
                },
                "title": {
                  "text": "Sales Revenue Over Time by Category"
                },
                "xaxis": {
                  "anchor": "y",
                  "domain": [
                    0,
                    1
                  ],
                  "title": {
                    "text": "order_date"
                  }
                },
                "yaxis": {
                  "anchor": "x",
                  "domain": [
                    0,
                    1
                  ],
                  "title": {
                    "text": "Total Revenue"
                  }
                }
              }
            }
          },
          "metadata": {},
          "output_type": "display_data"
        }
      ],
      "source": [
        "#Visualize the sales revenue over time by category.\n",
        "revenue_by_category=orders_customers_products.groupby(['order_date','category'])['revenue'].sum().reset_index(name='Total Revenue')\n",
        "fig = px.line(revenue_by_category, x='order_date', y='Total Revenue', color='category', title='Sales Revenue Over Time by Category')\n",
        "fig.show()"
      ]
    },
    {
      "cell_type": "markdown",
      "metadata": {
        "id": "wd7d1TBcCcNR"
      },
      "source": [
        "**Answer 5**"
      ]
    },
    {
      "cell_type": "code",
      "execution_count": 39,
      "metadata": {
        "colab": {
          "base_uri": "https://localhost:8080/",
          "height": 542
        },
        "id": "03J4X6syCedD",
        "outputId": "3f808d1f-48dc-49d7-e63e-a9302b03cdea"
      },
      "outputs": [
        {
          "data": {
            "application/vnd.plotly.v1+json": {
              "config": {
                "plotlyServerURL": "https://plot.ly"
              },
              "data": [
                {
                  "alignmentgroup": "True",
                  "hovertemplate": "age=%{x}<br>Total Customers=%{y}<extra></extra>",
                  "legendgroup": "",
                  "marker": {
                    "color": "#636efa",
                    "pattern": {
                      "shape": ""
                    }
                  },
                  "name": "",
                  "offsetgroup": "",
                  "orientation": "v",
                  "showlegend": false,
                  "textposition": "auto",
                  "type": "bar",
                  "x": [
                    18,
                    19,
                    20,
                    21,
                    23,
                    24,
                    27,
                    29,
                    31,
                    32,
                    33,
                    34,
                    35,
                    36,
                    37,
                    38,
                    40,
                    41,
                    42,
                    43,
                    44,
                    45,
                    46,
                    47,
                    48,
                    50,
                    54,
                    55,
                    56,
                    58,
                    60,
                    61,
                    63,
                    64,
                    66,
                    67,
                    68,
                    69
                  ],
                  "xaxis": "x",
                  "y": [
                    9,
                    8,
                    3,
                    1,
                    2,
                    1,
                    11,
                    4,
                    2,
                    4,
                    1,
                    3,
                    1,
                    2,
                    8,
                    4,
                    9,
                    16,
                    4,
                    1,
                    4,
                    3,
                    9,
                    4,
                    7,
                    9,
                    5,
                    24,
                    3,
                    5,
                    5,
                    7,
                    7,
                    1,
                    2,
                    5,
                    5,
                    1
                  ],
                  "yaxis": "y"
                }
              ],
              "layout": {
                "barmode": "relative",
                "legend": {
                  "tracegroupgap": 0
                },
                "template": {
                  "data": {
                    "bar": [
                      {
                        "error_x": {
                          "color": "#2a3f5f"
                        },
                        "error_y": {
                          "color": "#2a3f5f"
                        },
                        "marker": {
                          "line": {
                            "color": "#E5ECF6",
                            "width": 0.5
                          },
                          "pattern": {
                            "fillmode": "overlay",
                            "size": 10,
                            "solidity": 0.2
                          }
                        },
                        "type": "bar"
                      }
                    ],
                    "barpolar": [
                      {
                        "marker": {
                          "line": {
                            "color": "#E5ECF6",
                            "width": 0.5
                          },
                          "pattern": {
                            "fillmode": "overlay",
                            "size": 10,
                            "solidity": 0.2
                          }
                        },
                        "type": "barpolar"
                      }
                    ],
                    "carpet": [
                      {
                        "aaxis": {
                          "endlinecolor": "#2a3f5f",
                          "gridcolor": "white",
                          "linecolor": "white",
                          "minorgridcolor": "white",
                          "startlinecolor": "#2a3f5f"
                        },
                        "baxis": {
                          "endlinecolor": "#2a3f5f",
                          "gridcolor": "white",
                          "linecolor": "white",
                          "minorgridcolor": "white",
                          "startlinecolor": "#2a3f5f"
                        },
                        "type": "carpet"
                      }
                    ],
                    "choropleth": [
                      {
                        "colorbar": {
                          "outlinewidth": 0,
                          "ticks": ""
                        },
                        "type": "choropleth"
                      }
                    ],
                    "contour": [
                      {
                        "colorbar": {
                          "outlinewidth": 0,
                          "ticks": ""
                        },
                        "colorscale": [
                          [
                            0,
                            "#0d0887"
                          ],
                          [
                            0.1111111111111111,
                            "#46039f"
                          ],
                          [
                            0.2222222222222222,
                            "#7201a8"
                          ],
                          [
                            0.3333333333333333,
                            "#9c179e"
                          ],
                          [
                            0.4444444444444444,
                            "#bd3786"
                          ],
                          [
                            0.5555555555555556,
                            "#d8576b"
                          ],
                          [
                            0.6666666666666666,
                            "#ed7953"
                          ],
                          [
                            0.7777777777777778,
                            "#fb9f3a"
                          ],
                          [
                            0.8888888888888888,
                            "#fdca26"
                          ],
                          [
                            1,
                            "#f0f921"
                          ]
                        ],
                        "type": "contour"
                      }
                    ],
                    "contourcarpet": [
                      {
                        "colorbar": {
                          "outlinewidth": 0,
                          "ticks": ""
                        },
                        "type": "contourcarpet"
                      }
                    ],
                    "heatmap": [
                      {
                        "colorbar": {
                          "outlinewidth": 0,
                          "ticks": ""
                        },
                        "colorscale": [
                          [
                            0,
                            "#0d0887"
                          ],
                          [
                            0.1111111111111111,
                            "#46039f"
                          ],
                          [
                            0.2222222222222222,
                            "#7201a8"
                          ],
                          [
                            0.3333333333333333,
                            "#9c179e"
                          ],
                          [
                            0.4444444444444444,
                            "#bd3786"
                          ],
                          [
                            0.5555555555555556,
                            "#d8576b"
                          ],
                          [
                            0.6666666666666666,
                            "#ed7953"
                          ],
                          [
                            0.7777777777777778,
                            "#fb9f3a"
                          ],
                          [
                            0.8888888888888888,
                            "#fdca26"
                          ],
                          [
                            1,
                            "#f0f921"
                          ]
                        ],
                        "type": "heatmap"
                      }
                    ],
                    "heatmapgl": [
                      {
                        "colorbar": {
                          "outlinewidth": 0,
                          "ticks": ""
                        },
                        "colorscale": [
                          [
                            0,
                            "#0d0887"
                          ],
                          [
                            0.1111111111111111,
                            "#46039f"
                          ],
                          [
                            0.2222222222222222,
                            "#7201a8"
                          ],
                          [
                            0.3333333333333333,
                            "#9c179e"
                          ],
                          [
                            0.4444444444444444,
                            "#bd3786"
                          ],
                          [
                            0.5555555555555556,
                            "#d8576b"
                          ],
                          [
                            0.6666666666666666,
                            "#ed7953"
                          ],
                          [
                            0.7777777777777778,
                            "#fb9f3a"
                          ],
                          [
                            0.8888888888888888,
                            "#fdca26"
                          ],
                          [
                            1,
                            "#f0f921"
                          ]
                        ],
                        "type": "heatmapgl"
                      }
                    ],
                    "histogram": [
                      {
                        "marker": {
                          "pattern": {
                            "fillmode": "overlay",
                            "size": 10,
                            "solidity": 0.2
                          }
                        },
                        "type": "histogram"
                      }
                    ],
                    "histogram2d": [
                      {
                        "colorbar": {
                          "outlinewidth": 0,
                          "ticks": ""
                        },
                        "colorscale": [
                          [
                            0,
                            "#0d0887"
                          ],
                          [
                            0.1111111111111111,
                            "#46039f"
                          ],
                          [
                            0.2222222222222222,
                            "#7201a8"
                          ],
                          [
                            0.3333333333333333,
                            "#9c179e"
                          ],
                          [
                            0.4444444444444444,
                            "#bd3786"
                          ],
                          [
                            0.5555555555555556,
                            "#d8576b"
                          ],
                          [
                            0.6666666666666666,
                            "#ed7953"
                          ],
                          [
                            0.7777777777777778,
                            "#fb9f3a"
                          ],
                          [
                            0.8888888888888888,
                            "#fdca26"
                          ],
                          [
                            1,
                            "#f0f921"
                          ]
                        ],
                        "type": "histogram2d"
                      }
                    ],
                    "histogram2dcontour": [
                      {
                        "colorbar": {
                          "outlinewidth": 0,
                          "ticks": ""
                        },
                        "colorscale": [
                          [
                            0,
                            "#0d0887"
                          ],
                          [
                            0.1111111111111111,
                            "#46039f"
                          ],
                          [
                            0.2222222222222222,
                            "#7201a8"
                          ],
                          [
                            0.3333333333333333,
                            "#9c179e"
                          ],
                          [
                            0.4444444444444444,
                            "#bd3786"
                          ],
                          [
                            0.5555555555555556,
                            "#d8576b"
                          ],
                          [
                            0.6666666666666666,
                            "#ed7953"
                          ],
                          [
                            0.7777777777777778,
                            "#fb9f3a"
                          ],
                          [
                            0.8888888888888888,
                            "#fdca26"
                          ],
                          [
                            1,
                            "#f0f921"
                          ]
                        ],
                        "type": "histogram2dcontour"
                      }
                    ],
                    "mesh3d": [
                      {
                        "colorbar": {
                          "outlinewidth": 0,
                          "ticks": ""
                        },
                        "type": "mesh3d"
                      }
                    ],
                    "parcoords": [
                      {
                        "line": {
                          "colorbar": {
                            "outlinewidth": 0,
                            "ticks": ""
                          }
                        },
                        "type": "parcoords"
                      }
                    ],
                    "pie": [
                      {
                        "automargin": true,
                        "type": "pie"
                      }
                    ],
                    "scatter": [
                      {
                        "fillpattern": {
                          "fillmode": "overlay",
                          "size": 10,
                          "solidity": 0.2
                        },
                        "type": "scatter"
                      }
                    ],
                    "scatter3d": [
                      {
                        "line": {
                          "colorbar": {
                            "outlinewidth": 0,
                            "ticks": ""
                          }
                        },
                        "marker": {
                          "colorbar": {
                            "outlinewidth": 0,
                            "ticks": ""
                          }
                        },
                        "type": "scatter3d"
                      }
                    ],
                    "scattercarpet": [
                      {
                        "marker": {
                          "colorbar": {
                            "outlinewidth": 0,
                            "ticks": ""
                          }
                        },
                        "type": "scattercarpet"
                      }
                    ],
                    "scattergeo": [
                      {
                        "marker": {
                          "colorbar": {
                            "outlinewidth": 0,
                            "ticks": ""
                          }
                        },
                        "type": "scattergeo"
                      }
                    ],
                    "scattergl": [
                      {
                        "marker": {
                          "colorbar": {
                            "outlinewidth": 0,
                            "ticks": ""
                          }
                        },
                        "type": "scattergl"
                      }
                    ],
                    "scattermapbox": [
                      {
                        "marker": {
                          "colorbar": {
                            "outlinewidth": 0,
                            "ticks": ""
                          }
                        },
                        "type": "scattermapbox"
                      }
                    ],
                    "scatterpolar": [
                      {
                        "marker": {
                          "colorbar": {
                            "outlinewidth": 0,
                            "ticks": ""
                          }
                        },
                        "type": "scatterpolar"
                      }
                    ],
                    "scatterpolargl": [
                      {
                        "marker": {
                          "colorbar": {
                            "outlinewidth": 0,
                            "ticks": ""
                          }
                        },
                        "type": "scatterpolargl"
                      }
                    ],
                    "scatterternary": [
                      {
                        "marker": {
                          "colorbar": {
                            "outlinewidth": 0,
                            "ticks": ""
                          }
                        },
                        "type": "scatterternary"
                      }
                    ],
                    "surface": [
                      {
                        "colorbar": {
                          "outlinewidth": 0,
                          "ticks": ""
                        },
                        "colorscale": [
                          [
                            0,
                            "#0d0887"
                          ],
                          [
                            0.1111111111111111,
                            "#46039f"
                          ],
                          [
                            0.2222222222222222,
                            "#7201a8"
                          ],
                          [
                            0.3333333333333333,
                            "#9c179e"
                          ],
                          [
                            0.4444444444444444,
                            "#bd3786"
                          ],
                          [
                            0.5555555555555556,
                            "#d8576b"
                          ],
                          [
                            0.6666666666666666,
                            "#ed7953"
                          ],
                          [
                            0.7777777777777778,
                            "#fb9f3a"
                          ],
                          [
                            0.8888888888888888,
                            "#fdca26"
                          ],
                          [
                            1,
                            "#f0f921"
                          ]
                        ],
                        "type": "surface"
                      }
                    ],
                    "table": [
                      {
                        "cells": {
                          "fill": {
                            "color": "#EBF0F8"
                          },
                          "line": {
                            "color": "white"
                          }
                        },
                        "header": {
                          "fill": {
                            "color": "#C8D4E3"
                          },
                          "line": {
                            "color": "white"
                          }
                        },
                        "type": "table"
                      }
                    ]
                  },
                  "layout": {
                    "annotationdefaults": {
                      "arrowcolor": "#2a3f5f",
                      "arrowhead": 0,
                      "arrowwidth": 1
                    },
                    "autotypenumbers": "strict",
                    "coloraxis": {
                      "colorbar": {
                        "outlinewidth": 0,
                        "ticks": ""
                      }
                    },
                    "colorscale": {
                      "diverging": [
                        [
                          0,
                          "#8e0152"
                        ],
                        [
                          0.1,
                          "#c51b7d"
                        ],
                        [
                          0.2,
                          "#de77ae"
                        ],
                        [
                          0.3,
                          "#f1b6da"
                        ],
                        [
                          0.4,
                          "#fde0ef"
                        ],
                        [
                          0.5,
                          "#f7f7f7"
                        ],
                        [
                          0.6,
                          "#e6f5d0"
                        ],
                        [
                          0.7,
                          "#b8e186"
                        ],
                        [
                          0.8,
                          "#7fbc41"
                        ],
                        [
                          0.9,
                          "#4d9221"
                        ],
                        [
                          1,
                          "#276419"
                        ]
                      ],
                      "sequential": [
                        [
                          0,
                          "#0d0887"
                        ],
                        [
                          0.1111111111111111,
                          "#46039f"
                        ],
                        [
                          0.2222222222222222,
                          "#7201a8"
                        ],
                        [
                          0.3333333333333333,
                          "#9c179e"
                        ],
                        [
                          0.4444444444444444,
                          "#bd3786"
                        ],
                        [
                          0.5555555555555556,
                          "#d8576b"
                        ],
                        [
                          0.6666666666666666,
                          "#ed7953"
                        ],
                        [
                          0.7777777777777778,
                          "#fb9f3a"
                        ],
                        [
                          0.8888888888888888,
                          "#fdca26"
                        ],
                        [
                          1,
                          "#f0f921"
                        ]
                      ],
                      "sequentialminus": [
                        [
                          0,
                          "#0d0887"
                        ],
                        [
                          0.1111111111111111,
                          "#46039f"
                        ],
                        [
                          0.2222222222222222,
                          "#7201a8"
                        ],
                        [
                          0.3333333333333333,
                          "#9c179e"
                        ],
                        [
                          0.4444444444444444,
                          "#bd3786"
                        ],
                        [
                          0.5555555555555556,
                          "#d8576b"
                        ],
                        [
                          0.6666666666666666,
                          "#ed7953"
                        ],
                        [
                          0.7777777777777778,
                          "#fb9f3a"
                        ],
                        [
                          0.8888888888888888,
                          "#fdca26"
                        ],
                        [
                          1,
                          "#f0f921"
                        ]
                      ]
                    },
                    "colorway": [
                      "#636efa",
                      "#EF553B",
                      "#00cc96",
                      "#ab63fa",
                      "#FFA15A",
                      "#19d3f3",
                      "#FF6692",
                      "#B6E880",
                      "#FF97FF",
                      "#FECB52"
                    ],
                    "font": {
                      "color": "#2a3f5f"
                    },
                    "geo": {
                      "bgcolor": "white",
                      "lakecolor": "white",
                      "landcolor": "#E5ECF6",
                      "showlakes": true,
                      "showland": true,
                      "subunitcolor": "white"
                    },
                    "hoverlabel": {
                      "align": "left"
                    },
                    "hovermode": "closest",
                    "mapbox": {
                      "style": "light"
                    },
                    "paper_bgcolor": "white",
                    "plot_bgcolor": "#E5ECF6",
                    "polar": {
                      "angularaxis": {
                        "gridcolor": "white",
                        "linecolor": "white",
                        "ticks": ""
                      },
                      "bgcolor": "#E5ECF6",
                      "radialaxis": {
                        "gridcolor": "white",
                        "linecolor": "white",
                        "ticks": ""
                      }
                    },
                    "scene": {
                      "xaxis": {
                        "backgroundcolor": "#E5ECF6",
                        "gridcolor": "white",
                        "gridwidth": 2,
                        "linecolor": "white",
                        "showbackground": true,
                        "ticks": "",
                        "zerolinecolor": "white"
                      },
                      "yaxis": {
                        "backgroundcolor": "#E5ECF6",
                        "gridcolor": "white",
                        "gridwidth": 2,
                        "linecolor": "white",
                        "showbackground": true,
                        "ticks": "",
                        "zerolinecolor": "white"
                      },
                      "zaxis": {
                        "backgroundcolor": "#E5ECF6",
                        "gridcolor": "white",
                        "gridwidth": 2,
                        "linecolor": "white",
                        "showbackground": true,
                        "ticks": "",
                        "zerolinecolor": "white"
                      }
                    },
                    "shapedefaults": {
                      "line": {
                        "color": "#2a3f5f"
                      }
                    },
                    "ternary": {
                      "aaxis": {
                        "gridcolor": "white",
                        "linecolor": "white",
                        "ticks": ""
                      },
                      "baxis": {
                        "gridcolor": "white",
                        "linecolor": "white",
                        "ticks": ""
                      },
                      "bgcolor": "#E5ECF6",
                      "caxis": {
                        "gridcolor": "white",
                        "linecolor": "white",
                        "ticks": ""
                      }
                    },
                    "title": {
                      "x": 0.05
                    },
                    "xaxis": {
                      "automargin": true,
                      "gridcolor": "white",
                      "linecolor": "white",
                      "ticks": "",
                      "title": {
                        "standoff": 15
                      },
                      "zerolinecolor": "white",
                      "zerolinewidth": 2
                    },
                    "yaxis": {
                      "automargin": true,
                      "gridcolor": "white",
                      "linecolor": "white",
                      "ticks": "",
                      "title": {
                        "standoff": 15
                      },
                      "zerolinecolor": "white",
                      "zerolinewidth": 2
                    }
                  }
                },
                "title": {
                  "text": "Age Distribution of Customers"
                },
                "xaxis": {
                  "anchor": "y",
                  "domain": [
                    0,
                    1
                  ],
                  "title": {
                    "text": "age"
                  }
                },
                "yaxis": {
                  "anchor": "x",
                  "domain": [
                    0,
                    1
                  ],
                  "title": {
                    "text": "Total Customers"
                  }
                }
              }
            }
          },
          "metadata": {},
          "output_type": "display_data"
        }
      ],
      "source": [
        "#Identify and visualize the age distribution of customers.\n",
        "customer_by_age=orders_customers_products.groupby('age')['customer_id'].count().reset_index(name='Total Customers')\n",
        "fig = px.bar(customer_by_age, x='age', y='Total Customers', title='Age Distribution of Customers')\n",
        "fig.show()\n"
      ]
    },
    {
      "cell_type": "markdown",
      "metadata": {
        "id": "H0SMTre151D9"
      },
      "source": [
        "# Part # 03 : Analytical Scenarios:"
      ]
    },
    {
      "cell_type": "markdown",
      "metadata": {
        "id": "fJhYSzR358g5"
      },
      "source": [
        "1.  Identify the most frequent customers and provide insights on their behavior.\n",
        "\n",
        "2. Analyze the sales trend of 'Electronics' category and predict next quarter’s demand.\n",
        "3. Suggest operational improvements based on order cancellation trends.\n"
      ]
    },
    {
      "cell_type": "markdown",
      "metadata": {
        "id": "oBRyvFNREbvg"
      },
      "source": [
        "**Answer 1**"
      ]
    },
    {
      "cell_type": "code",
      "execution_count": 40,
      "metadata": {
        "colab": {
          "base_uri": "https://localhost:8080/"
        },
        "id": "0cvZb6pLE_Pp",
        "outputId": "afa7e517-e81f-4431-d8c5-bc14c949c8df"
      },
      "outputs": [
        {
          "name": "stdout",
          "output_type": "stream",
          "text": [
            "Top 5 Customers by Total Quantity:\n",
            "   customer_id  Total Quantity  gender  age  join_date\n",
            "0         1015              61  Female   55 2022-07-22\n",
            "1         1003              15    Male   29 2022-06-02\n",
            "2         1050              12    Male   61 2022-02-10\n",
            "3         1091              12  Female   38 2022-02-11\n",
            "4         1016              11   Other   60 2022-12-08\n"
          ]
        }
      ],
      "source": [
        "# Identify the most frequent customers and provide insights on their behavior.\n",
        "top_5_customers = orders_customers_products.groupby('customer_id')['quantity'].sum().reset_index(name='Total Quantity').nlargest(5, 'Total Quantity')\n",
        "\n",
        "# Merge with customer information for more insights\n",
        "top_customers_info = pd.merge(top_5_customers, customers, on='customer_id', how='left')\n",
        "\n",
        "print(\"Top 5 Customers by Total Quantity:\")\n",
        "print(top_customers_info[['customer_id', 'Total Quantity', 'gender', 'age', 'join_date']])"
      ]
    },
    {
      "cell_type": "code",
      "execution_count": 41,
      "metadata": {
        "colab": {
          "base_uri": "https://localhost:8080/"
        },
        "id": "9zQLGIzZFE8R",
        "outputId": "90fd1b8e-856a-4458-b52a-8061c329800f"
      },
      "outputs": [
        {
          "name": "stdout",
          "output_type": "stream",
          "text": [
            "\n",
            "Most Frequent Category for each Top Customer:\n",
            "   customer_id  Total Quantity customer_name                   email  age  \\\n",
            "0         1015              61   Customer_15  customer15@example.com   55   \n",
            "1         1003              15    Customer_3   customer3@example.com   29   \n",
            "2         1050              12   Customer_50  customer50@example.com   61   \n",
            "3         1091              12   Customer_91  customer91@example.com   38   \n",
            "4         1016              11   Customer_16  customer16@example.com   60   \n",
            "\n",
            "   gender  join_date Most Frequent Category  \n",
            "0  Female 2022-07-22                  Books  \n",
            "1    Male 2022-06-02        Home Appliances  \n",
            "2    Male 2022-02-10        Home Appliances  \n",
            "3  Female 2022-02-11            Electronics  \n",
            "4   Other 2022-12-08                  Books  \n"
          ]
        }
      ],
      "source": [
        "#1. Preferred product categories:\n",
        "top_customer_categories = orders_customers_products[orders_customers_products['customer_id'].isin(top_5_customers['customer_id'])].groupby('customer_id')['category'].agg(lambda x: x.mode().iat[0] if not x.mode().empty else None).reset_index(name='Most Frequent Category')\n",
        "\n",
        "print(\"\\nMost Frequent Category for each Top Customer:\")\n",
        "print(pd.merge(top_customers_info,top_customer_categories, on='customer_id', how='left'))"
      ]
    },
    {
      "cell_type": "code",
      "execution_count": 42,
      "metadata": {
        "colab": {
          "base_uri": "https://localhost:8080/"
        },
        "id": "Vbeq0VhFFPQS",
        "outputId": "871935ff-1c3a-4c3a-9904-639983981229"
      },
      "outputs": [
        {
          "name": "stdout",
          "output_type": "stream",
          "text": [
            "\n",
            "Average Order Value for each Top Customer:\n",
            "   customer_id  Total Quantity customer_name                   email  age  \\\n",
            "0         1015              61   Customer_15  customer15@example.com   55   \n",
            "1         1003              15    Customer_3   customer3@example.com   29   \n",
            "2         1050              12   Customer_50  customer50@example.com   61   \n",
            "3         1091              12   Customer_91  customer91@example.com   38   \n",
            "4         1016              11   Customer_16  customer16@example.com   60   \n",
            "\n",
            "   gender  join_date  Average Order Value  \n",
            "0  Female 2022-07-22             67.17375  \n",
            "1    Male 2022-06-02             34.72000  \n",
            "2    Male 2022-02-10              0.00000  \n",
            "3  Female 2022-02-11            338.10000  \n",
            "4   Other 2022-12-08              0.00000  \n"
          ]
        }
      ],
      "source": [
        "#2. Average order value:\n",
        "top_customers_aov = orders_customers_products[orders_customers_products['customer_id'].isin(top_5_customers['customer_id'])].groupby('customer_id')['revenue'].mean().reset_index(name='Average Order Value')\n",
        "\n",
        "print(\"\\nAverage Order Value for each Top Customer:\")\n",
        "print(pd.merge(top_customers_info,top_customers_aov, on='customer_id', how='left'))"
      ]
    },
    {
      "cell_type": "code",
      "execution_count": 43,
      "metadata": {
        "colab": {
          "base_uri": "https://localhost:8080/"
        },
        "id": "xguSQp-JFTEY",
        "outputId": "51377f49-68f4-4941-e14a-b991aed0b0ef"
      },
      "outputs": [
        {
          "name": "stdout",
          "output_type": "stream",
          "text": [
            "\n",
            "Preferred Payment Method for each Top Customer:\n",
            "   customer_id  Total Quantity customer_name                   email  age  \\\n",
            "0         1015              61   Customer_15  customer15@example.com   55   \n",
            "1         1003              15    Customer_3   customer3@example.com   29   \n",
            "2         1050              12   Customer_50  customer50@example.com   61   \n",
            "3         1091              12   Customer_91  customer91@example.com   38   \n",
            "4         1016              11   Customer_16  customer16@example.com   60   \n",
            "\n",
            "   gender  join_date Preferred Payment  \n",
            "0  Female 2022-07-22        Debit Card  \n",
            "1    Male 2022-06-02       Credit Card  \n",
            "2    Male 2022-02-10       Credit Card  \n",
            "3  Female 2022-02-11        Debit Card  \n",
            "4   Other 2022-12-08               COD  \n"
          ]
        }
      ],
      "source": [
        "#3. Payment method preference:\n",
        "top_customer_payments = orders_customers_products[orders_customers_products['customer_id'].isin(top_5_customers['customer_id'])].groupby('customer_id')['payment_method'].agg(lambda x: x.mode().iat[0] if not x.mode().empty else None).reset_index(name='Preferred Payment')\n",
        "\n",
        "print(\"\\nPreferred Payment Method for each Top Customer:\")\n",
        "print(pd.merge(top_customers_info,top_customer_payments, on='customer_id', how='left'))"
      ]
    },
    {
      "cell_type": "code",
      "execution_count": 44,
      "metadata": {
        "colab": {
          "base_uri": "https://localhost:8080/"
        },
        "id": "jNJH9ngLFiyQ",
        "outputId": "5fdfc3f7-4604-4506-d6b3-1d5046aaec64"
      },
      "outputs": [
        {
          "name": "stdout",
          "output_type": "stream",
          "text": [
            "\n",
            "Order Frequency for each Top Customer:\n",
            "   customer_id  Total Quantity customer_name                   email  age  \\\n",
            "0         1015              61   Customer_15  customer15@example.com   55   \n",
            "1         1003              15    Customer_3   customer3@example.com   29   \n",
            "2         1050              12   Customer_50  customer50@example.com   61   \n",
            "3         1091              12   Customer_91  customer91@example.com   38   \n",
            "4         1016              11   Customer_16  customer16@example.com   60   \n",
            "\n",
            "   gender  join_date  Order Frequency  \n",
            "0  Female 2022-07-22               24  \n",
            "1    Male 2022-06-02                4  \n",
            "2    Male 2022-02-10                4  \n",
            "3  Female 2022-02-11                4  \n",
            "4   Other 2022-12-08                4  \n"
          ]
        }
      ],
      "source": [
        "#4 Order Frequency Analysis for Top Customers\n",
        "top_customers_order_freq = orders_customers_products[orders_customers_products['customer_id'].isin(top_5_customers['customer_id'])].groupby('customer_id')['order_id'].count().reset_index(name='Order Frequency')\n",
        "\n",
        "print(\"\\nOrder Frequency for each Top Customer:\")\n",
        "print(pd.merge(top_customers_info,top_customers_order_freq, on='customer_id', how='left'))"
      ]
    },
    {
      "cell_type": "markdown",
      "metadata": {
        "id": "hmBAaT3qF33U"
      },
      "source": [
        "**Answer 2**"
      ]
    },
    {
      "cell_type": "code",
      "execution_count": 45,
      "metadata": {
        "colab": {
          "base_uri": "https://localhost:8080/",
          "height": 560
        },
        "id": "msb5bga5GBKx",
        "outputId": "9b50489e-0cf9-48b9-b9aa-58a8df1531d7"
      },
      "outputs": [
        {
          "data": {
            "application/vnd.plotly.v1+json": {
              "config": {
                "plotlyServerURL": "https://plot.ly"
              },
              "data": [
                {
                  "hovertemplate": "order_date=%{x}<br>quantity=%{y}<extra></extra>",
                  "legendgroup": "",
                  "line": {
                    "color": "#636efa",
                    "dash": "solid"
                  },
                  "marker": {
                    "symbol": "circle"
                  },
                  "mode": "lines",
                  "name": "",
                  "orientation": "v",
                  "showlegend": false,
                  "type": "scatter",
                  "x": [
                    "2023-01-08T00:00:00",
                    "2023-02-22T00:00:00",
                    "2023-03-06T00:00:00",
                    "2023-03-20T00:00:00",
                    "2023-03-21T00:00:00",
                    "2023-03-29T00:00:00",
                    "2023-04-04T00:00:00",
                    "2023-04-10T00:00:00",
                    "2023-04-11T00:00:00",
                    "2023-04-25T00:00:00",
                    "2023-05-14T00:00:00",
                    "2023-05-17T00:00:00",
                    "2023-05-25T00:00:00",
                    "2023-05-27T00:00:00",
                    "2023-06-20T00:00:00",
                    "2023-06-22T00:00:00",
                    "2023-07-08T00:00:00",
                    "2023-07-09T00:00:00",
                    "2023-07-11T00:00:00",
                    "2023-08-25T00:00:00",
                    "2023-09-07T00:00:00",
                    "2023-09-12T00:00:00",
                    "2023-09-15T00:00:00",
                    "2023-10-18T00:00:00",
                    "2023-11-02T00:00:00",
                    "2023-11-16T00:00:00",
                    "2023-11-30T00:00:00",
                    "2023-12-01T00:00:00",
                    "2023-12-11T00:00:00",
                    "2023-12-20T00:00:00",
                    "2023-12-28T00:00:00",
                    "2025-01-01T00:00:00"
                  ],
                  "xaxis": "x",
                  "y": [
                    1,
                    1,
                    4,
                    3,
                    2,
                    3,
                    3,
                    2,
                    4,
                    4,
                    2,
                    1,
                    2,
                    2,
                    4,
                    1,
                    1,
                    2,
                    4,
                    4,
                    2,
                    2,
                    1,
                    4,
                    1,
                    2,
                    3,
                    2,
                    3,
                    5,
                    3,
                    2
                  ],
                  "yaxis": "y"
                }
              ],
              "layout": {
                "legend": {
                  "tracegroupgap": 0
                },
                "template": {
                  "data": {
                    "bar": [
                      {
                        "error_x": {
                          "color": "#2a3f5f"
                        },
                        "error_y": {
                          "color": "#2a3f5f"
                        },
                        "marker": {
                          "line": {
                            "color": "#E5ECF6",
                            "width": 0.5
                          },
                          "pattern": {
                            "fillmode": "overlay",
                            "size": 10,
                            "solidity": 0.2
                          }
                        },
                        "type": "bar"
                      }
                    ],
                    "barpolar": [
                      {
                        "marker": {
                          "line": {
                            "color": "#E5ECF6",
                            "width": 0.5
                          },
                          "pattern": {
                            "fillmode": "overlay",
                            "size": 10,
                            "solidity": 0.2
                          }
                        },
                        "type": "barpolar"
                      }
                    ],
                    "carpet": [
                      {
                        "aaxis": {
                          "endlinecolor": "#2a3f5f",
                          "gridcolor": "white",
                          "linecolor": "white",
                          "minorgridcolor": "white",
                          "startlinecolor": "#2a3f5f"
                        },
                        "baxis": {
                          "endlinecolor": "#2a3f5f",
                          "gridcolor": "white",
                          "linecolor": "white",
                          "minorgridcolor": "white",
                          "startlinecolor": "#2a3f5f"
                        },
                        "type": "carpet"
                      }
                    ],
                    "choropleth": [
                      {
                        "colorbar": {
                          "outlinewidth": 0,
                          "ticks": ""
                        },
                        "type": "choropleth"
                      }
                    ],
                    "contour": [
                      {
                        "colorbar": {
                          "outlinewidth": 0,
                          "ticks": ""
                        },
                        "colorscale": [
                          [
                            0,
                            "#0d0887"
                          ],
                          [
                            0.1111111111111111,
                            "#46039f"
                          ],
                          [
                            0.2222222222222222,
                            "#7201a8"
                          ],
                          [
                            0.3333333333333333,
                            "#9c179e"
                          ],
                          [
                            0.4444444444444444,
                            "#bd3786"
                          ],
                          [
                            0.5555555555555556,
                            "#d8576b"
                          ],
                          [
                            0.6666666666666666,
                            "#ed7953"
                          ],
                          [
                            0.7777777777777778,
                            "#fb9f3a"
                          ],
                          [
                            0.8888888888888888,
                            "#fdca26"
                          ],
                          [
                            1,
                            "#f0f921"
                          ]
                        ],
                        "type": "contour"
                      }
                    ],
                    "contourcarpet": [
                      {
                        "colorbar": {
                          "outlinewidth": 0,
                          "ticks": ""
                        },
                        "type": "contourcarpet"
                      }
                    ],
                    "heatmap": [
                      {
                        "colorbar": {
                          "outlinewidth": 0,
                          "ticks": ""
                        },
                        "colorscale": [
                          [
                            0,
                            "#0d0887"
                          ],
                          [
                            0.1111111111111111,
                            "#46039f"
                          ],
                          [
                            0.2222222222222222,
                            "#7201a8"
                          ],
                          [
                            0.3333333333333333,
                            "#9c179e"
                          ],
                          [
                            0.4444444444444444,
                            "#bd3786"
                          ],
                          [
                            0.5555555555555556,
                            "#d8576b"
                          ],
                          [
                            0.6666666666666666,
                            "#ed7953"
                          ],
                          [
                            0.7777777777777778,
                            "#fb9f3a"
                          ],
                          [
                            0.8888888888888888,
                            "#fdca26"
                          ],
                          [
                            1,
                            "#f0f921"
                          ]
                        ],
                        "type": "heatmap"
                      }
                    ],
                    "heatmapgl": [
                      {
                        "colorbar": {
                          "outlinewidth": 0,
                          "ticks": ""
                        },
                        "colorscale": [
                          [
                            0,
                            "#0d0887"
                          ],
                          [
                            0.1111111111111111,
                            "#46039f"
                          ],
                          [
                            0.2222222222222222,
                            "#7201a8"
                          ],
                          [
                            0.3333333333333333,
                            "#9c179e"
                          ],
                          [
                            0.4444444444444444,
                            "#bd3786"
                          ],
                          [
                            0.5555555555555556,
                            "#d8576b"
                          ],
                          [
                            0.6666666666666666,
                            "#ed7953"
                          ],
                          [
                            0.7777777777777778,
                            "#fb9f3a"
                          ],
                          [
                            0.8888888888888888,
                            "#fdca26"
                          ],
                          [
                            1,
                            "#f0f921"
                          ]
                        ],
                        "type": "heatmapgl"
                      }
                    ],
                    "histogram": [
                      {
                        "marker": {
                          "pattern": {
                            "fillmode": "overlay",
                            "size": 10,
                            "solidity": 0.2
                          }
                        },
                        "type": "histogram"
                      }
                    ],
                    "histogram2d": [
                      {
                        "colorbar": {
                          "outlinewidth": 0,
                          "ticks": ""
                        },
                        "colorscale": [
                          [
                            0,
                            "#0d0887"
                          ],
                          [
                            0.1111111111111111,
                            "#46039f"
                          ],
                          [
                            0.2222222222222222,
                            "#7201a8"
                          ],
                          [
                            0.3333333333333333,
                            "#9c179e"
                          ],
                          [
                            0.4444444444444444,
                            "#bd3786"
                          ],
                          [
                            0.5555555555555556,
                            "#d8576b"
                          ],
                          [
                            0.6666666666666666,
                            "#ed7953"
                          ],
                          [
                            0.7777777777777778,
                            "#fb9f3a"
                          ],
                          [
                            0.8888888888888888,
                            "#fdca26"
                          ],
                          [
                            1,
                            "#f0f921"
                          ]
                        ],
                        "type": "histogram2d"
                      }
                    ],
                    "histogram2dcontour": [
                      {
                        "colorbar": {
                          "outlinewidth": 0,
                          "ticks": ""
                        },
                        "colorscale": [
                          [
                            0,
                            "#0d0887"
                          ],
                          [
                            0.1111111111111111,
                            "#46039f"
                          ],
                          [
                            0.2222222222222222,
                            "#7201a8"
                          ],
                          [
                            0.3333333333333333,
                            "#9c179e"
                          ],
                          [
                            0.4444444444444444,
                            "#bd3786"
                          ],
                          [
                            0.5555555555555556,
                            "#d8576b"
                          ],
                          [
                            0.6666666666666666,
                            "#ed7953"
                          ],
                          [
                            0.7777777777777778,
                            "#fb9f3a"
                          ],
                          [
                            0.8888888888888888,
                            "#fdca26"
                          ],
                          [
                            1,
                            "#f0f921"
                          ]
                        ],
                        "type": "histogram2dcontour"
                      }
                    ],
                    "mesh3d": [
                      {
                        "colorbar": {
                          "outlinewidth": 0,
                          "ticks": ""
                        },
                        "type": "mesh3d"
                      }
                    ],
                    "parcoords": [
                      {
                        "line": {
                          "colorbar": {
                            "outlinewidth": 0,
                            "ticks": ""
                          }
                        },
                        "type": "parcoords"
                      }
                    ],
                    "pie": [
                      {
                        "automargin": true,
                        "type": "pie"
                      }
                    ],
                    "scatter": [
                      {
                        "fillpattern": {
                          "fillmode": "overlay",
                          "size": 10,
                          "solidity": 0.2
                        },
                        "type": "scatter"
                      }
                    ],
                    "scatter3d": [
                      {
                        "line": {
                          "colorbar": {
                            "outlinewidth": 0,
                            "ticks": ""
                          }
                        },
                        "marker": {
                          "colorbar": {
                            "outlinewidth": 0,
                            "ticks": ""
                          }
                        },
                        "type": "scatter3d"
                      }
                    ],
                    "scattercarpet": [
                      {
                        "marker": {
                          "colorbar": {
                            "outlinewidth": 0,
                            "ticks": ""
                          }
                        },
                        "type": "scattercarpet"
                      }
                    ],
                    "scattergeo": [
                      {
                        "marker": {
                          "colorbar": {
                            "outlinewidth": 0,
                            "ticks": ""
                          }
                        },
                        "type": "scattergeo"
                      }
                    ],
                    "scattergl": [
                      {
                        "marker": {
                          "colorbar": {
                            "outlinewidth": 0,
                            "ticks": ""
                          }
                        },
                        "type": "scattergl"
                      }
                    ],
                    "scattermapbox": [
                      {
                        "marker": {
                          "colorbar": {
                            "outlinewidth": 0,
                            "ticks": ""
                          }
                        },
                        "type": "scattermapbox"
                      }
                    ],
                    "scatterpolar": [
                      {
                        "marker": {
                          "colorbar": {
                            "outlinewidth": 0,
                            "ticks": ""
                          }
                        },
                        "type": "scatterpolar"
                      }
                    ],
                    "scatterpolargl": [
                      {
                        "marker": {
                          "colorbar": {
                            "outlinewidth": 0,
                            "ticks": ""
                          }
                        },
                        "type": "scatterpolargl"
                      }
                    ],
                    "scatterternary": [
                      {
                        "marker": {
                          "colorbar": {
                            "outlinewidth": 0,
                            "ticks": ""
                          }
                        },
                        "type": "scatterternary"
                      }
                    ],
                    "surface": [
                      {
                        "colorbar": {
                          "outlinewidth": 0,
                          "ticks": ""
                        },
                        "colorscale": [
                          [
                            0,
                            "#0d0887"
                          ],
                          [
                            0.1111111111111111,
                            "#46039f"
                          ],
                          [
                            0.2222222222222222,
                            "#7201a8"
                          ],
                          [
                            0.3333333333333333,
                            "#9c179e"
                          ],
                          [
                            0.4444444444444444,
                            "#bd3786"
                          ],
                          [
                            0.5555555555555556,
                            "#d8576b"
                          ],
                          [
                            0.6666666666666666,
                            "#ed7953"
                          ],
                          [
                            0.7777777777777778,
                            "#fb9f3a"
                          ],
                          [
                            0.8888888888888888,
                            "#fdca26"
                          ],
                          [
                            1,
                            "#f0f921"
                          ]
                        ],
                        "type": "surface"
                      }
                    ],
                    "table": [
                      {
                        "cells": {
                          "fill": {
                            "color": "#EBF0F8"
                          },
                          "line": {
                            "color": "white"
                          }
                        },
                        "header": {
                          "fill": {
                            "color": "#C8D4E3"
                          },
                          "line": {
                            "color": "white"
                          }
                        },
                        "type": "table"
                      }
                    ]
                  },
                  "layout": {
                    "annotationdefaults": {
                      "arrowcolor": "#2a3f5f",
                      "arrowhead": 0,
                      "arrowwidth": 1
                    },
                    "autotypenumbers": "strict",
                    "coloraxis": {
                      "colorbar": {
                        "outlinewidth": 0,
                        "ticks": ""
                      }
                    },
                    "colorscale": {
                      "diverging": [
                        [
                          0,
                          "#8e0152"
                        ],
                        [
                          0.1,
                          "#c51b7d"
                        ],
                        [
                          0.2,
                          "#de77ae"
                        ],
                        [
                          0.3,
                          "#f1b6da"
                        ],
                        [
                          0.4,
                          "#fde0ef"
                        ],
                        [
                          0.5,
                          "#f7f7f7"
                        ],
                        [
                          0.6,
                          "#e6f5d0"
                        ],
                        [
                          0.7,
                          "#b8e186"
                        ],
                        [
                          0.8,
                          "#7fbc41"
                        ],
                        [
                          0.9,
                          "#4d9221"
                        ],
                        [
                          1,
                          "#276419"
                        ]
                      ],
                      "sequential": [
                        [
                          0,
                          "#0d0887"
                        ],
                        [
                          0.1111111111111111,
                          "#46039f"
                        ],
                        [
                          0.2222222222222222,
                          "#7201a8"
                        ],
                        [
                          0.3333333333333333,
                          "#9c179e"
                        ],
                        [
                          0.4444444444444444,
                          "#bd3786"
                        ],
                        [
                          0.5555555555555556,
                          "#d8576b"
                        ],
                        [
                          0.6666666666666666,
                          "#ed7953"
                        ],
                        [
                          0.7777777777777778,
                          "#fb9f3a"
                        ],
                        [
                          0.8888888888888888,
                          "#fdca26"
                        ],
                        [
                          1,
                          "#f0f921"
                        ]
                      ],
                      "sequentialminus": [
                        [
                          0,
                          "#0d0887"
                        ],
                        [
                          0.1111111111111111,
                          "#46039f"
                        ],
                        [
                          0.2222222222222222,
                          "#7201a8"
                        ],
                        [
                          0.3333333333333333,
                          "#9c179e"
                        ],
                        [
                          0.4444444444444444,
                          "#bd3786"
                        ],
                        [
                          0.5555555555555556,
                          "#d8576b"
                        ],
                        [
                          0.6666666666666666,
                          "#ed7953"
                        ],
                        [
                          0.7777777777777778,
                          "#fb9f3a"
                        ],
                        [
                          0.8888888888888888,
                          "#fdca26"
                        ],
                        [
                          1,
                          "#f0f921"
                        ]
                      ]
                    },
                    "colorway": [
                      "#636efa",
                      "#EF553B",
                      "#00cc96",
                      "#ab63fa",
                      "#FFA15A",
                      "#19d3f3",
                      "#FF6692",
                      "#B6E880",
                      "#FF97FF",
                      "#FECB52"
                    ],
                    "font": {
                      "color": "#2a3f5f"
                    },
                    "geo": {
                      "bgcolor": "white",
                      "lakecolor": "white",
                      "landcolor": "#E5ECF6",
                      "showlakes": true,
                      "showland": true,
                      "subunitcolor": "white"
                    },
                    "hoverlabel": {
                      "align": "left"
                    },
                    "hovermode": "closest",
                    "mapbox": {
                      "style": "light"
                    },
                    "paper_bgcolor": "white",
                    "plot_bgcolor": "#E5ECF6",
                    "polar": {
                      "angularaxis": {
                        "gridcolor": "white",
                        "linecolor": "white",
                        "ticks": ""
                      },
                      "bgcolor": "#E5ECF6",
                      "radialaxis": {
                        "gridcolor": "white",
                        "linecolor": "white",
                        "ticks": ""
                      }
                    },
                    "scene": {
                      "xaxis": {
                        "backgroundcolor": "#E5ECF6",
                        "gridcolor": "white",
                        "gridwidth": 2,
                        "linecolor": "white",
                        "showbackground": true,
                        "ticks": "",
                        "zerolinecolor": "white"
                      },
                      "yaxis": {
                        "backgroundcolor": "#E5ECF6",
                        "gridcolor": "white",
                        "gridwidth": 2,
                        "linecolor": "white",
                        "showbackground": true,
                        "ticks": "",
                        "zerolinecolor": "white"
                      },
                      "zaxis": {
                        "backgroundcolor": "#E5ECF6",
                        "gridcolor": "white",
                        "gridwidth": 2,
                        "linecolor": "white",
                        "showbackground": true,
                        "ticks": "",
                        "zerolinecolor": "white"
                      }
                    },
                    "shapedefaults": {
                      "line": {
                        "color": "#2a3f5f"
                      }
                    },
                    "ternary": {
                      "aaxis": {
                        "gridcolor": "white",
                        "linecolor": "white",
                        "ticks": ""
                      },
                      "baxis": {
                        "gridcolor": "white",
                        "linecolor": "white",
                        "ticks": ""
                      },
                      "bgcolor": "#E5ECF6",
                      "caxis": {
                        "gridcolor": "white",
                        "linecolor": "white",
                        "ticks": ""
                      }
                    },
                    "title": {
                      "x": 0.05
                    },
                    "xaxis": {
                      "automargin": true,
                      "gridcolor": "white",
                      "linecolor": "white",
                      "ticks": "",
                      "title": {
                        "standoff": 15
                      },
                      "zerolinecolor": "white",
                      "zerolinewidth": 2
                    },
                    "yaxis": {
                      "automargin": true,
                      "gridcolor": "white",
                      "linecolor": "white",
                      "ticks": "",
                      "title": {
                        "standoff": 15
                      },
                      "zerolinecolor": "white",
                      "zerolinewidth": 2
                    }
                  }
                },
                "title": {
                  "text": "Electronics Sales Trend"
                },
                "xaxis": {
                  "anchor": "y",
                  "domain": [
                    0,
                    1
                  ],
                  "title": {
                    "text": "order_date"
                  }
                },
                "yaxis": {
                  "anchor": "x",
                  "domain": [
                    0,
                    1
                  ],
                  "title": {
                    "text": "quantity"
                  }
                }
              }
            }
          },
          "metadata": {},
          "output_type": "display_data"
        },
        {
          "name": "stdout",
          "output_type": "stream",
          "text": [
            "Predicted next quarter's demand for Electronics: 3.3333333333333335\n"
          ]
        }
      ],
      "source": [
        "# Analyze the sales trend of 'Electronics' category and predict next quarter’s demand.\n",
        "electronics_sales = orders_customers_products[orders_customers_products['category'] == 'Electronics']\n",
        "electronics_sales_trend = electronics_sales.groupby('order_date')['quantity'].sum().reset_index()\n",
        "\n",
        "# Plotting the trend\n",
        "fig = px.line(electronics_sales_trend, x='order_date', y='quantity', title='Electronics Sales Trend')\n",
        "fig.show()\n",
        "\n",
        "# Simple prediction (using a rolling average for demonstration) - replace with a more sophisticated model\n",
        "electronics_sales_trend['rolling_mean'] = electronics_sales_trend['quantity'].rolling(window=3).mean()  # Adjust window as needed\n",
        "predicted_demand = electronics_sales_trend['rolling_mean'].iloc[-1]  # Use the latest rolling mean as the prediction\n",
        "print(f\"Predicted next quarter's demand for Electronics: {predicted_demand}\")"
      ]
    },
    {
      "cell_type": "markdown",
      "metadata": {
        "id": "PopN9g9DGQeD"
      },
      "source": [
        "**Answer 3**"
      ]
    },
    {
      "cell_type": "markdown",
      "metadata": {
        "id": "poFit1PWG6x5"
      },
      "source": [
        "1. Investigate high cancellation customer segments: Identify common characteristics (demographics, payment methods, product categories) among customers with frequent cancellations.  This could point towards issues like incorrect product information, payment gateway problems, or delivery issues.\n",
        "\n",
        "2. Improve product information: If cancellations are related to product details, improve the quality of product descriptions, images, and specifications.\n",
        "\n",
        "3. Enhance customer service: Provide more responsive and helpful customer service to resolve issues promptly.\n",
        "\n",
        "4. Optimize payment process: If cancellations are tied to payment issues, review and simplify the checkout process. Consider offering a broader range of payment options.\n",
        "\n",
        "5. Address delivery problems: Investigate shipping times and delivery reliability. Partner with better logistics providers or consider alternative delivery methods if necessary.\n",
        "\n",
        "\n",
        "\n",
        "\n"
      ]
    },
    {
      "cell_type": "code",
      "execution_count": 46,
      "metadata": {
        "colab": {
          "base_uri": "https://localhost:8080/"
        },
        "id": "3F8T6Pi5GdVk",
        "outputId": "b987d986-0fe9-471e-edaf-5d3ec3e1dc32"
      },
      "outputs": [
        {
          "name": "stdout",
          "output_type": "stream",
          "text": [
            "Cancellation Reasons:\n",
            "    customer_id  Cancellation Count\n",
            "0          1003                   1\n",
            "1          1009                   1\n",
            "2          1013                   1\n",
            "3          1015                   5\n",
            "4          1017                   1\n",
            "5          1024                   1\n",
            "6          1028                   2\n",
            "7          1030                   1\n",
            "8          1033                   1\n",
            "9          1039                   1\n",
            "10         1043                   1\n",
            "11         1045                   1\n",
            "12         1049                   1\n",
            "13         1063                   1\n",
            "14         1067                   1\n",
            "15         1068                   1\n",
            "16         1072                   1\n",
            "17         1073                   1\n",
            "18         1075                   1\n",
            "19         1076                   1\n",
            "20         1077                   1\n",
            "21         1080                   1\n",
            "22         1083                   1\n",
            "23         1091                   1\n",
            "24         1092                   1\n",
            "25         1094                   2\n",
            "26         1096                   1\n",
            "27         1097                   1\n",
            "28         1100                   1\n"
          ]
        }
      ],
      "source": [
        "# Analyze order cancellation trends\n",
        "cancelled_orders = orders_customers_products[orders_customers_products['status'] == 'Cancelled']\n",
        "cancellation_reasons = cancelled_orders.groupby('customer_id')['payment_method'].count().reset_index(name='Cancellation Count')\n",
        "\n",
        "print(\"Cancellation Reasons:\")\n",
        "print(cancellation_reasons)"
      ]
    },
    {
      "cell_type": "code",
      "execution_count": 47,
      "metadata": {
        "colab": {
          "base_uri": "https://localhost:8080/"
        },
        "id": "yCfOyUvVGk5p",
        "outputId": "89a53350-8e86-4c14-f1d7-48d282b4ae2b"
      },
      "outputs": [
        {
          "name": "stdout",
          "output_type": "stream",
          "text": [
            "\n",
            "Payment Methods associated with Cancellations:\n",
            "payment_method\n",
            "COD            11\n",
            "Credit Card     9\n",
            "Debit Card      8\n",
            "PayPal          7\n",
            "Name: count, dtype: int64\n"
          ]
        }
      ],
      "source": [
        "#Identifying payment method related cancellations\n",
        "payment_method_cancellations = cancelled_orders['payment_method'].value_counts()\n",
        "print(\"\\nPayment Methods associated with Cancellations:\")\n",
        "print(payment_method_cancellations)"
      ]
    },
    {
      "cell_type": "code",
      "execution_count": 48,
      "metadata": {
        "colab": {
          "base_uri": "https://localhost:8080/",
          "height": 309
        },
        "id": "dZ9xm4PVGsb2",
        "outputId": "a0de33c4-4a4b-4892-f379-2fdde45e5ffa"
      },
      "outputs": [
        {
          "name": "stdout",
          "output_type": "stream",
          "text": [
            "\n",
            "Product Categories with High Cancellation Rates:\n"
          ]
        },
        {
          "data": {
            "text/plain": [
              "category\n",
              "Books              11\n",
              "Clothing           10\n",
              "Home Appliances     6\n",
              "Electronics         6\n",
              "Pet Supply          2\n",
              "Name: count, dtype: int64"
            ]
          },
          "execution_count": 48,
          "metadata": {},
          "output_type": "execute_result"
        }
      ],
      "source": [
        "# Identifying product categories with high cancellation rates\n",
        "product_category_cancellations = cancelled_orders['category'].value_counts()\n",
        "print(\"\\nProduct Categories with High Cancellation Rates:\")\n",
        "product_category_cancellations"
      ]
    }
  ],
  "metadata": {
    "colab": {
      "collapsed_sections": [
        "y34m54lP7LJU",
        "CqJDLbyl7hOC",
        "EJNbWI9H42TC",
        "0olCeO7L5eDZ",
        "H0SMTre151D9"
      ],
      "provenance": []
    },
    "kernelspec": {
      "display_name": "venv",
      "language": "python",
      "name": "python3"
    },
    "language_info": {
      "codemirror_mode": {
        "name": "ipython",
        "version": 3
      },
      "file_extension": ".py",
      "mimetype": "text/x-python",
      "name": "python",
      "nbconvert_exporter": "python",
      "pygments_lexer": "ipython3",
      "version": "3.12.3"
    }
  },
  "nbformat": 4,
  "nbformat_minor": 0
}
